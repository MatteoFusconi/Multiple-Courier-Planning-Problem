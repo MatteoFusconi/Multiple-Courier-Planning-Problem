{
  "nbformat": 4,
  "nbformat_minor": 0,
  "metadata": {
    "colab": {
      "provenance": [],
      "authorship_tag": "ABX9TyPf2FG9/osKBJa9vwSJr2NW",
      "include_colab_link": true
    },
    "kernelspec": {
      "name": "python3",
      "display_name": "Python 3"
    },
    "language_info": {
      "name": "python"
    }
  },
  "cells": [
    {
      "cell_type": "markdown",
      "metadata": {
        "id": "view-in-github",
        "colab_type": "text"
      },
      "source": [
        "<a href=\"https://colab.research.google.com/github/francesco-source/CDMO/blob/main/SAT.ipynb\" target=\"_parent\"><img src=\"https://colab.research.google.com/assets/colab-badge.svg\" alt=\"Open In Colab\"/></a>"
      ]
    },
    {
      "cell_type": "code",
      "execution_count": null,
      "metadata": {
        "colab": {
          "base_uri": "https://localhost:8080/"
        },
        "id": "AhREZLExytdy",
        "outputId": "a4704541-335f-422a-a8cb-6545c0acc1a4"
      },
      "outputs": [
        {
          "output_type": "stream",
          "name": "stdout",
          "text": [
            "Looking in indexes: https://pypi.org/simple, https://us-python.pkg.dev/colab-wheels/public/simple/\n",
            "Collecting z3-solver\n",
            "  Downloading z3_solver-4.12.1.0-py2.py3-none-manylinux1_x86_64.whl (56.0 MB)\n",
            "\u001b[2K     \u001b[90m━━━━━━━━━━━━━━━━━━━━━━━━━━━━━━━━━━━━━━━━\u001b[0m \u001b[32m56.0/56.0 MB\u001b[0m \u001b[31m11.5 MB/s\u001b[0m eta \u001b[36m0:00:00\u001b[0m\n",
            "\u001b[?25hInstalling collected packages: z3-solver\n",
            "Successfully installed z3-solver-4.12.1.0\n"
          ]
        }
      ],
      "source": [
        "!pip3 install z3-solver"
      ]
    },
    {
      "cell_type": "code",
      "source": [
        "from itertools import combinations\n",
        "from z3 import *\n",
        "import math\n",
        "import numpy as np"
      ],
      "metadata": {
        "id": "sXbHxG_QywZz"
      },
      "execution_count": null,
      "outputs": []
    },
    {
      "cell_type": "code",
      "source": [
        "def at_least_one(bool_vars):\n",
        "    return Or(bool_vars)\n",
        "\n",
        "def at_most_one(bool_vars, name):\n",
        "    constraints = []\n",
        "    n = len(bool_vars)\n",
        "    s = [Bool(f\"s_{name}_{i}\") for i in range(n - 1)]\n",
        "    constraints.append(Or(Not(bool_vars[0]), s[0]))\n",
        "    constraints.append(Or(Not(bool_vars[n-1]), Not(s[n-2])))\n",
        "    for i in range(1, n - 1):\n",
        "        constraints.append(Or(Not(bool_vars[i]), s[i]))\n",
        "        constraints.append(Or(Not(bool_vars[i]), Not(s[i-1])))\n",
        "        constraints.append(Or(Not(s[i-1]), s[i]))\n",
        "    return And(constraints)\n",
        "\n",
        "def exactly_one(bool_vars, name):\n",
        "    return And(at_least_one(bool_vars), at_most_one(bool_vars, name))\n",
        "\n"
      ],
      "metadata": {
        "id": "71J2D7DUyyg7"
      },
      "execution_count": null,
      "outputs": []
    },
    {
      "cell_type": "code",
      "source": [
        "m = 3\n",
        "n = 7\n",
        "l = [15, 10, 10]\n",
        "s = [3, 2, 6, 8, 5, 4, 4]\n",
        "D = [[0, 3, 3, 6, 5, 6, 6, 2],\n",
        "     [ 3, 0, 4, 3, 4, 7, 7, 3],\n",
        "     [3, 4, 0, 7, 6, 3, 5, 3],\n",
        "     [6, 3, 7, 0, 3, 6, 6, 4],\n",
        "     [5, 4, 6, 3, 0, 3, 3, 3],\n",
        "     [6, 7, 3, 6, 3, 0, 2, 4],\n",
        "     [6, 7, 5, 6, 3, 2, 0, 4],\n",
        "     [2, 3, 3, 4, 3, 4, 4, 0]]\n"
      ],
      "metadata": {
        "id": "eU4UCAvY4JV6"
      },
      "execution_count": null,
      "outputs": []
    },
    {
      "cell_type": "code",
      "source": [
        "class Postmans:\n",
        "    def __init__(self, m, n, l, s, D):\n",
        "        self.m = m\n",
        "        self.n = n\n",
        "        self.l = l\n",
        "        self.s = s\n",
        "        self.D = D\n",
        "\n",
        "        \n",
        "instance = Postmans(m,n,l,s,D)"
      ],
      "metadata": {
        "id": "iiBZ9Hhq3m2o"
      },
      "execution_count": 26,
      "outputs": []
    },
    {
      "cell_type": "code",
      "source": [
        "def mtps(instance):\n",
        "  m = instance.m\n",
        "  n = instance.n\n",
        "  l = instance.l\n",
        "  s = instance.s\n",
        "  D = instance.D\n",
        "\n",
        "  sol = Solver()\n",
        "\n",
        "  constraints = []\n",
        "\n",
        "  X = [[[Bool(f\"x_{i}_{j}_{k}\") for k in range(0,n+1)] for j in range(n)] for i in range(m)]\n",
        "\n",
        "# each cell has only one value.\n",
        "  for i in range(m):\n",
        "    for j in range(n):\n",
        "      sol.add(exactly_one(X[i][j],f\"valid_cell_{i}_{j}\"))\n",
        "\n",
        "# each element except zero should be seen only once inside the matrix\n",
        "  for k in range(1,n):\n",
        "      sol.add(exactly_one([X[i][j][k] for i in range(m) for j in range(n)],f\"valid_k{k}\"))\n",
        "\n",
        "# each courier can only deliver items whose total size doesn't exceed limit\n",
        "  for i in range(m):\n",
        "     sol.add(PbLe([(X[i][j][k],s[k-1]) for j in range(n) for k in range(1,n+1)], l[i]))\n",
        "\n",
        "  \n",
        "\n",
        "\n",
        "\n",
        "\n",
        "\n",
        "    \n",
        "\n",
        "\n",
        "  if sol.check() == sat:\n",
        "    sol = []\n",
        "    return sol\n",
        "  else:\n",
        "        print(\"Failed to solve\")\n",
        "mtps(instance)\n",
        "      "
      ],
      "metadata": {
        "id": "6hADaacp7aJy",
        "colab": {
          "base_uri": "https://localhost:8080/"
        },
        "outputId": "def3888d-b50d-4101-c3c8-38dfb0d55b52"
      },
      "execution_count": 51,
      "outputs": [
        {
          "output_type": "execute_result",
          "data": {
            "text/plain": [
              "[]"
            ]
          },
          "metadata": {},
          "execution_count": 51
        }
      ]
    }
  ]
}