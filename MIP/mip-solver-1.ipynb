{
 "cells": [
  {
   "cell_type": "code",
   "execution_count": 17,
   "metadata": {},
   "outputs": [],
   "source": [
    "from pulp import *\n",
    "import numpy as np\n",
    "from mpi_utils import *"
   ]
  },
  {
   "cell_type": "code",
   "execution_count": 30,
   "metadata": {},
   "outputs": [],
   "source": [
    "class Mcpp_var:\n",
    "     def __init__(self, m, n, l, s, D):\n",
    "        self.m = m\n",
    "        self.n = n\n",
    "        self.l = l\n",
    "        self.s = s\n",
    "        self.D = D\n",
    "\n",
    "\n",
    "def load_instances(num: int):\n",
    "  if num < 10:\n",
    "    num = \"0\"+str(num)\n",
    "  else:\n",
    "    num = str(num)\n",
    "  \n",
    "  file = open(f\"../input/inst{num}.dat\", 'r')\n",
    "  \n",
    "  m = int(file.readline())\n",
    "  n = int(file.readline())\n",
    "  l = [int(x) for x in file.readline().split(\" \") if x!= \"\"]\n",
    "  s = [int(x) for x in file.readline().split(\" \") if x!= \"\"]\n",
    "  D = []\n",
    "  for i in range(n+1):\n",
    "      D.append([int(x) for x in file.readline().split(\" \") if x!= \"\\n\" if x!= \"\"])\n",
    "  \n",
    "  return Mcpp_var(m, n, l, s, D)   "
   ]
  },
  {
   "cell_type": "code",
   "execution_count": 20,
   "metadata": {},
   "outputs": [],
   "source": [
    "mcpp = load_instances(6)"
   ]
  },
  {
   "cell_type": "markdown",
   "metadata": {},
   "source": [
    "# modello CVRP\n"
   ]
  },
  {
   "cell_type": "code",
   "execution_count": 33,
   "metadata": {},
   "outputs": [],
   "source": [
    "#  has a value of 1 if the arc from node to node is in the optimal route and is driven by vehicle k\n",
    "X = [[[ LpVariable(name=f'X_{i}_{j}_{k}', lowBound=0, upBound=1, cat=LpBinary) for k in range(mcpp.m) ] for j in range(mcpp.n + 1) ] for i in range(mcpp.n + 1)]\n",
    "\n",
    "# Create the distance variables for each courier\n",
    "dist_courier = [LpVariable(name=f'dist_cour{i}', cat=LpInteger , lowBound = 0, upBound=500) for i in range(mcpp.m)]\n",
    "maximum = LpVariable(name=f'maximum', lowBound = 0, upBound =500 , cat = LpInteger)\n",
    "model3 = LpProblem(name=f'mcpp3', sense=LpMinimize)\n"
   ]
  },
  {
   "cell_type": "code",
   "execution_count": 34,
   "metadata": {},
   "outputs": [
    {
     "data": {
      "text/plain": [
       "1"
      ]
     },
     "execution_count": 34,
     "metadata": {},
     "output_type": "execute_result"
    }
   ],
   "source": [
    "#1. vehicle leaves node that it enters\n",
    "for j in range(mcpp.n + 1):\n",
    "    for k in range(mcpp.m):\n",
    "        model3 += lpSum([X[i][j][k] for i in range(mcpp.n + 1)]) == lpSum([X[j][i][k] for i in range(mcpp.n + 1)])\n",
    "\n",
    "#2 every node is entered once\n",
    "for j in range (mcpp.n):\n",
    "    model3 += lpSum([[X[i][j][k] for i in range(mcpp.n + 1)] for k in range(mcpp.m)]) == 1\n",
    "\n",
    "#no travel from a node to itself\n",
    "for i in range(mcpp.n + 1):\n",
    "    for k in range(mcpp.m):\n",
    "        model3 += X[i][i][k] == 0\n",
    "\n",
    " #3 every vehicles leaves the depot\n",
    "for k in range(mcpp.m):\n",
    "   model3+= lpSum(X[mcpp.n][j][k] for j in range(mcpp.n)) == 1\n",
    "\n",
    "#4 load constraint\n",
    "for k in range(mcpp.m):\n",
    "    model3 += lpSum([mcpp.s[j]*X[i][j][k] for j in range( mcpp.n ) for i in range(mcpp.n + 1)]) <= mcpp.l[k]\n",
    "\n",
    "#subtours ----> ! TO DELETE AND MODIFY WITH A LAZY CONSTRAINT\n",
    "for i in range(mcpp.n):\n",
    "    for j in range(mcpp.n):\n",
    "        if i != j:\n",
    "            model3 += lpSum(X[i][j][k] for k in range(mcpp.m)) + lpSum(X[j][i][k] for k in range(mcpp.m)) <= 1\n",
    "\n",
    "# distance constraint\n",
    "for k in range(mcpp.m): \n",
    "  model3 += dist_courier[k] == lpSum(mcpp.D[i][j] * X[i][j][k] for j in range(mcpp.n + 1) for i in range(mcpp.n + 1))\n",
    "\n",
    "#7. Goal function. We want to minimize the max distance.\n",
    "for i in range(mcpp.m):\n",
    "    model3 += maximum >= dist_courier[i] \n",
    "    \n",
    "model3 += maximum\n",
    "   \n",
    "model3.solve() "
   ]
  },
  {
   "cell_type": "code",
   "execution_count": 27,
   "metadata": {},
   "outputs": [
    {
     "name": "stdout",
     "output_type": "stream",
     "text": [
      "Solution Matrix:\n",
      "[[0, 0, 0, 0, 0, 0], [0, 0, 0, 0, 0, 0], [0, 0, 0, 0, 0, 0], [0, 0, 0, 0, 0, 0], [0, 0, 0, 0, 0, 0], [0, 0, 0, 0, 0, 0], [0, 0, 0, 0, 0, 0], [0, 0, 0, 0, 0, 0], [0, 0, 0, 0, 1, 0]]\n",
      "[[0, 0, 0, 0, 0, 0], [0, 0, 0, 0, 0, 0], [0, 0, 0, 0, 0, 0], [0, 0, 0, 0, 0, 0], [0, 0, 0, 0, 0, 0], [0, 0, 0, 0, 0, 0], [0, 0, 0, 0, 0, 0], [0, 0, 0, 0, 0, 0], [1, 0, 0, 0, 0, 0]]\n",
      "[[0, 0, 0, 0, 0, 0], [0, 0, 0, 0, 0, 0], [0, 0, 0, 0, 0, 0], [0, 0, 0, 0, 0, 0], [0, 0, 0, 0, 0, 0], [0, 0, 0, 0, 0, 0], [0, 0, 0, 0, 0, 0], [0, 0, 0, 0, 0, 0], [0, 0, 0, 1, 0, 0]]\n",
      "[[0, 0, 0, 0, 0, 0], [0, 0, 0, 0, 0, 0], [0, 0, 0, 0, 0, 0], [0, 0, 0, 0, 0, 0], [0, 0, 0, 0, 0, 0], [0, 0, 0, 0, 0, 0], [0, 0, 0, 0, 0, 0], [0, 0, 0, 0, 0, 0], [0, 0, 1, 0, 0, 0]]\n",
      "[[0, 0, 0, 0, 0, 0], [0, 0, 0, 0, 0, 0], [0, 0, 0, 0, 0, 0], [0, 0, 0, 0, 0, 0], [0, 0, 0, 0, 0, 0], [0, 0, 0, 0, 0, 0], [0, 0, 0, 0, 0, 0], [0, 0, 0, 0, 0, 0], [0, 0, 0, 0, 0, 1]]\n",
      "[[0, 0, 0, 0, 0, 0], [0, 0, 0, 0, 0, 0], [0, 0, 0, 0, 0, 0], [0, 0, 0, 0, 0, 0], [0, 0, 0, 0, 0, 0], [0, 0, 0, 0, 0, 0], [0, 0, 0, 0, 0, 0], [0, 0, 0, 0, 0, 0], [0, 1, 0, 0, 0, 0]]\n",
      "[[0, 0, 0, 0, 0, 0], [0, 0, 0, 0, 0, 0], [0, 0, 0, 0, 0, 0], [0, 0, 0, 0, 0, 0], [0, 0, 0, 0, 0, 1], [0, 0, 0, 0, 0, 0], [0, 0, 0, 0, 0, 0], [0, 0, 0, 0, 0, 0], [0, 0, 0, 0, 0, 0]]\n",
      "[[0, 0, 0, 0, 0, 0], [0, 0, 0, 0, 0, 0], [0, 0, 0, 0, 0, 0], [0, 0, 1, 0, 0, 0], [0, 0, 0, 0, 0, 0], [0, 0, 0, 0, 0, 0], [0, 0, 0, 0, 0, 0], [0, 0, 0, 0, 0, 0], [0, 0, 0, 0, 0, 0]]\n",
      "[[0, 0, 0, 0, 1, 0], [1, 0, 0, 0, 0, 0], [0, 0, 0, 1, 0, 0], [0, 0, 0, 0, 0, 0], [0, 0, 0, 0, 0, 0], [0, 1, 0, 0, 0, 0], [0, 0, 0, 0, 0, 1], [0, 0, 1, 0, 0, 0], [0, 0, 0, 0, 0, 0]]\n",
      " \n",
      " dist mcpp:\n",
      "[0, 80, 131, 22, 41, 127, 87, 48, 113]\n",
      "[60, 0, 85, 82, 101, 81, 53, 106, 57]\n",
      "[141, 83, 0, 129, 182, 4, 64, 189, 28]\n",
      "[22, 82, 129, 0, 55, 125, 65, 66, 101]\n",
      "[41, 99, 172, 55, 0, 168, 118, 11, 154]\n",
      "[137, 81, 4, 125, 178, 0, 60, 185, 32]\n",
      "[77, 63, 64, 65, 118, 60, 0, 125, 36]\n",
      "[48, 126, 179, 60, 58, 175, 125, 0, 161]\n",
      "[113, 57, 28, 101, 154, 24, 36, 161, 0]\n",
      " \n",
      " dist Matrix:\n",
      "114\n",
      "56\n",
      "322\n",
      "56\n",
      "226\n",
      "308\n"
     ]
    }
   ],
   "source": [
    "# Retrieve the solution values if needed\n",
    "solution_matrix = [[[int(X[i][j][k].varValue) for k in range(mcpp.m)] for j in range(mcpp.n + 1)] for i in range(mcpp.n + 1)]\n",
    "dist_cour_mat = [int(dist_courier[k].varValue) for k in range(mcpp.m)]\n",
    "\n",
    "print(\"Solution Matrix:\")\n",
    "for row in solution_matrix:\n",
    "     print(row)\n",
    "\n",
    "# print(\" \\n pck Matrix:\")\n",
    "# for row in pck_matr:\n",
    "#     print(row)\n",
    "print(\" \\n dist mcpp:\")\n",
    "for row in mcpp.D:\n",
    "     print(row)\n",
    "\n",
    "print(\" \\n dist Matrix:\")\n",
    "for row in dist_cour_mat:\n",
    "    print(row)\n",
    "\n",
    "\n",
    "\n"
   ]
  },
  {
   "cell_type": "markdown",
   "metadata": {},
   "source": [
    "# Metodi modello 1 e 2"
   ]
  },
  {
   "cell_type": "code",
   "execution_count": null,
   "metadata": {},
   "outputs": [],
   "source": [
    "def And(model, a, b, name):\n",
    "        \"\"\"\n",
    "        And(a,b)\n",
    "        :param a: first parameter of And condition\n",
    "        :param b: second parameter of And condition\n",
    "        :param name: name of the And\n",
    "        :return: 1 if a and b is true, false otherwise\n",
    "        \"\"\"\n",
    "        delta = LpVariable(cat=LpInteger, name=name)\n",
    "        model += delta <= a\n",
    "        model += delta >= a + b - 1\n",
    "        model += delta >= 0\n",
    "        model += delta <= b\n",
    "        return delta\n",
    "\n",
    "def linear_prod(model, binary_var, countinuos_var, ub, name):\n",
    "        \"\"\"\n",
    "        res = binary_var * countinuos_var\n",
    "        :param binary_var: binary variable\n",
    "        :param countinuos_var: countinuos variable\n",
    "        :param ub: upper bound of the countinuos variable\n",
    "        :param name: name of the product\n",
    "        :return: the result of the product\n",
    "        \"\"\"\n",
    "        res = LpVariable(cat=LpInteger, name=name)\n",
    "        model += ub * binary_var >= res\n",
    "        model += countinuos_var >= res\n",
    "        model += countinuos_var - (1 - binary_var) * ub <= res\n",
    "        model += res >= 0\n",
    "        return res\n",
    "\n",
    "M = 1000\n",
    "\n",
    "def If(model, a, b, M, name):\n",
    "    delta = LpVariable(cat=LpBinary, name=name)\n",
    "    model += a - b <= M * delta\n",
    "    model += b - a <= M * (1 - delta)\n",
    "    return delta\n",
    "\n",
    "\n"
   ]
  },
  {
   "cell_type": "markdown",
   "metadata": {},
   "source": [
    "# Nuovo modello"
   ]
  },
  {
   "cell_type": "markdown",
   "metadata": {},
   "source": [
    "Per il nuovo modello ho pensato di sfruttare una maschera (pck) per capire il percorso dei pacchi dato che era la cosa che negli altri approcci risultava un po' più problematica (non potento usare Lpvariable per scorrere la matrice D).\n",
    "pck contiene i percorsi - da quale pacco a quale pacco - e X i pacchi presi da ciascun corriere. \n",
    "Ho pensato che se ogni corriere parte esattamente una volta deposito da li oi il percorso può essere ricostruito a ritroso senza avere un vettore per gli ordini.\n",
    "\n"
   ]
  },
  {
   "cell_type": "code",
   "execution_count": 22,
   "metadata": {},
   "outputs": [],
   "source": [
    "#couriers and packages matrix\n",
    "X = [[ LpVariable(name=f'X_{i}_{k}', lowBound=0, upBound=1, cat=LpBinary) for k in range(mcpp.n) ] for i in range(mcpp.m) ]\n",
    "\n",
    "#binary mask of packages' path \n",
    "pck = [[ LpVariable(name=f'pck_{i}_{k}', lowBound=0, upBound=1, cat=LpBinary) for k in range(mcpp.n + 1)] for i in range(mcpp.n + 1) ]\n",
    "\n",
    "# Create the distance variables for each courier\n",
    "dist_courier = [LpVariable(name=f'dist_cour{i}', cat=LpInteger , lowBound = 0, upBound=500) for i in range(mcpp.m)]\n",
    "\n",
    "# Create the distance variables for each courier\n",
    "\n",
    "\n",
    "maximum = LpVariable(name='maximum', lowBound=0, upBound=500, cat=LpInteger)\n",
    "\n"
   ]
  },
  {
   "cell_type": "code",
   "execution_count": 23,
   "metadata": {},
   "outputs": [
    {
     "data": {
      "text/plain": [
       "1"
      ]
     },
     "execution_count": 23,
     "metadata": {},
     "output_type": "execute_result"
    }
   ],
   "source": [
    "# Create the PuLP model\n",
    "model2 = LpProblem(name='mcpp2', sense=LpMinimize)\n",
    "\n",
    "#1. each package has to be choosen \n",
    "for j in range(mcpp.n):\n",
    "    model2 += lpSum([X[i][j] for i in range(mcpp.m)]) == 1 \n",
    "\n",
    "#2.  pck diagonal should be 0\n",
    "for i in range(mcpp.n + 1):\n",
    "    model2 += pck[i][i] == 0   \n",
    "\n",
    "#3. each package should have a path assigned \n",
    "for i in range(mcpp.n): \n",
    "    model2 += lpSum(pck[i][j] for j in range(mcpp.n  + 1)) == 1\n",
    "\n",
    "for j in range(mcpp.n): \n",
    "    model2 += lpSum(pck[i][j] for i in range(mcpp.n  + 1)) ==1\n",
    "\n",
    "\n",
    "#4.a each courier should bring at least one package (maybe useless)\n",
    "for i in range(mcpp.m):\n",
    "    model2 += lpSum(X[i][j] for j in range(mcpp.n)) >= 1    \n",
    "#4.b since every courier bring a package m path should start from depot \n",
    "model2 += lpSum(pck[mcpp.n][j] for j in range(mcpp.n  + 1)) == mcpp.m\n",
    "#and m path should end in depot \n",
    "model2 += lpSum(pck[j][mcpp.n] for j in range(mcpp.n  + 1)) == mcpp.m\n",
    "\n",
    "#5. load size constraint \n",
    "for i in range(mcpp.m):\n",
    "    model2 += lpSum([mcpp.s[j]*X[i][j] for j in range(mcpp.n) ]) <= mcpp.l[i]\n",
    "    \n",
    "#6. no loop\n",
    "for i in range(mcpp.n):\n",
    "    for j in range(mcpp.n):\n",
    "        model2 += pck[i][j] + pck[j][i] <= 1\n",
    "\n",
    "#7. distance constraint\n",
    "\n",
    "for i in range(mcpp.m):\n",
    "  model2 += dist_courier[i] == lpSum([[And(model2, X[i][j], pck[mcpp.n][j], f'and_dist_dep{i}_{mcpp.n}_{j}') * mcpp.D[mcpp.n][j]\n",
    "                                      for j in range(mcpp.n  )], \n",
    "                                      [lpSum([And(model2, X[i][j], pck[j][j2], f'and_dist_{i}_{j}_{j2}') * mcpp.D[j][j2]\n",
    "                                      for j2 in range(mcpp.n +1 ) for j in range(mcpp.n )])\n",
    "                                      ]]) \n",
    " \n",
    "\n",
    "\n",
    "\n",
    "#8. the route has to be coherent with the assignment of the packages to the courier.\n",
    "for i in range(mcpp.m):\n",
    "    for j in range(mcpp.n):\n",
    "     for j2 in range(mcpp.n):\n",
    "        if(j != j2):\n",
    "            model2 += And(model2, pck[j][j2], X[i][j], f'coh{i}{j}{j2}') == And(model2, pck[j][j2], X[i][j2], f'coh2_{i}{j}{j2}')\n",
    "\n",
    "\n",
    "#8a. also for the depot\n",
    "for i in range(mcpp.m):\n",
    "        model2 += lpSum(And(model2, X[i][j], pck[mcpp.n][j], f'and_dep_{i}{j}') for j in range(mcpp.n)) == 1\n",
    "        model2 += lpSum(And(model2, X[i][j], pck[j][mcpp.n], f'and_dep2_{i}{j}') for j in range(mcpp.n)) == 1\n",
    "\n",
    "\n",
    "#10. Goal function. We want to minimize the max distance.\n",
    "for i in range(mcpp.m):\n",
    "    model2 += maximum >= dist_courier[i] \n",
    "    \n",
    "model2 += maximum\n",
    "         \n",
    "\n",
    "# Solve the model\n",
    "model2.solve(pulp.PULP_CBC_CMD())"
   ]
  },
  {
   "cell_type": "code",
   "execution_count": null,
   "metadata": {},
   "outputs": [
    {
     "name": "stdout",
     "output_type": "stream",
     "text": [
      "La soluzione è ottima.\n"
     ]
    }
   ],
   "source": [
    "status = LpStatus[model2.status]\n",
    "\n",
    "if status == \"Optimal\":\n",
    "    print(\"La soluzione è ottima.\")\n",
    "elif status == \"Infeasible\":\n",
    "    print(\"Il problema è infeasible.\")\n",
    "elif status == \"Unbounded\":\n",
    "    print(\"Il problema è illimitato.\")\n",
    "elif status == \"Undefined\":\n",
    "    print(\"Il problema è indefinito.\")\n",
    "else:\n",
    "    print(\"Stato sconosciuto.\")\n"
   ]
  },
  {
   "cell_type": "code",
   "execution_count": 24,
   "metadata": {},
   "outputs": [
    {
     "name": "stdout",
     "output_type": "stream",
     "text": [
      "Solution Matrix:\n",
      "[0, 0, 0, 1, 1, 0, 0, 0]\n",
      "[1, 0, 0, 0, 0, 0, 0, 1]\n",
      "[0, 0, 0, 0, 0, 0, 1, 0]\n",
      "[0, 1, 0, 0, 0, 0, 0, 0]\n",
      "[0, 0, 1, 0, 0, 0, 0, 0]\n",
      "[0, 0, 0, 0, 0, 1, 0, 0]\n",
      " \n",
      " pck Matrix:\n",
      "[0, 0, 0, 0, 0, 0, 0, 0, 1]\n",
      "[0, 0, 0, 0, 0, 0, 0, 0, 1]\n",
      "[0, 0, 0, 0, 0, 0, 0, 0, 1]\n",
      "[0, 0, 0, 0, 0, 0, 0, 0, 1]\n",
      "[0, 0, 0, 1, 0, 0, 0, 0, 0]\n",
      "[0, 0, 0, 0, 0, 0, 0, 0, 1]\n",
      "[0, 0, 0, 0, 0, 0, 0, 0, 1]\n",
      "[1, 0, 0, 0, 0, 0, 0, 0, 0]\n",
      "[0, 1, 1, 0, 1, 1, 1, 1, 0]\n",
      " \n",
      " dist mcpp:\n",
      "[0, 80, 131, 22, 41, 127, 87, 48, 113]\n",
      "[60, 0, 85, 82, 101, 81, 53, 106, 57]\n",
      "[141, 83, 0, 129, 182, 4, 64, 189, 28]\n",
      "[22, 82, 129, 0, 55, 125, 65, 66, 101]\n",
      "[41, 99, 172, 55, 0, 168, 118, 11, 154]\n",
      "[137, 81, 4, 125, 178, 0, 60, 185, 32]\n",
      "[77, 63, 64, 65, 118, 60, 0, 125, 36]\n",
      "[48, 126, 179, 60, 58, 175, 125, 0, 161]\n",
      "[113, 57, 28, 101, 154, 24, 36, 161, 0]\n",
      " \n",
      " dist Matrix:\n",
      "310\n",
      "322\n",
      "72\n",
      "114\n",
      "56\n",
      "56\n"
     ]
    }
   ],
   "source": [
    "# Retrieve the solution values if needed\n",
    "solution_matrix = [[int(X[i][k].varValue) for k in range(mcpp.n)] for i in range(mcpp.m)]\n",
    "pck_matr = [[int(pck[i][k].varValue) for k in range(mcpp.n + 1)] for i in range(mcpp.n + 1)]\n",
    "dist_cour_mat = [int(dist_courier[k].varValue) for k in range(mcpp.m)]\n",
    "\n",
    "print(\"Solution Matrix:\")\n",
    "for row in solution_matrix:\n",
    "    print(row)\n",
    "\n",
    "print(\" \\n pck Matrix:\")\n",
    "for row in pck_matr:\n",
    "    print(row)\n",
    "print(\" \\n dist mcpp:\")\n",
    "for row in mcpp.D:\n",
    "    print(row)\n",
    "print(\" \\n dist Matrix:\")\n",
    "for row in dist_cour_mat:\n",
    "    print(row)\n",
    "\n",
    "\n",
    "\n"
   ]
  },
  {
   "cell_type": "markdown",
   "metadata": {},
   "source": [
    "# Modello Binario Vecchio"
   ]
  },
  {
   "cell_type": "code",
   "execution_count": null,
   "metadata": {},
   "outputs": [
    {
     "data": {
      "text/plain": [
       "1"
      ]
     },
     "execution_count": 204,
     "metadata": {},
     "output_type": "execute_result"
    }
   ],
   "source": [
    "# matrix m*n*n+1 where we have couriers, order and packages\n",
    "X  = [[[LpVariable(name = f'X_{i}_{k}_{j}', lowBound = 0, upBound = 1, cat = LpBinary) \n",
    "        for j in range(mcpp.n+1)] for k in range(mcpp.n)] for i in range(mcpp.m)]\n",
    "\n",
    "#distance made by each courier\n",
    "dist_courier = [LpVariable(name = f'dist_cour{i}', cat = LpInteger,lowBound = 0, upBound = np.max(mcpp.D)*(mcpp.n-2)) \n",
    "                for i in range(mcpp.m)]\n",
    "\n",
    "maximum = LpVariable(name=f'maximum', lowBound = 0, upBound =np.max(mcpp.D)*(mcpp.n-2) , cat = LpInteger)\n",
    "\n",
    "model = LpProblem(name=f'mcpp1', sense=LpMinimize)\n",
    "\n",
    "#1. One hot encoding \n",
    "for i in range(mcpp.m):\n",
    "    for k in range(mcpp.n):\n",
    "        model += lpSum([X[i][k][j]for j in range(mcpp.n+1)]) == 1\n",
    "\n",
    "#2. Each element only once in the cube\n",
    "for j in range(mcpp.n):\n",
    "    model += lpSum([[X[i][k][j] for k in range(mcpp.n)] for i in range(mcpp.m)]) == 1\n",
    "\n",
    "#3. Load size constraint ( migliora con LpAffineSumExpression)\n",
    "for i in range(mcpp.m):\n",
    "    model += lpSum([mcpp.s[j]*X[i][k][j] for j in range(mcpp.n) for k in range(mcpp.n)]) <= mcpp.l[i]\n",
    " \n",
    "#4. Every courier must start.\n",
    "model += lpSum(X[i][0][mcpp.n] for i in range(mcpp.m)) == 0\n",
    "\n",
    "#5. Constraint that if I see a 0, all the following element for a courier must be 0.\n",
    "for i in range(mcpp.m):\n",
    "    for k in range(mcpp.n-1):\n",
    "            model += X[i][k][mcpp.n] - X[i][k+1][mcpp.n] <= 0 \n",
    "\n",
    "# 6. Distances traveled by each courier\n",
    "for i in range(mcpp.m):\n",
    "    model += dist_courier[i] == lpSum([[X[i][0][j] * mcpp.D[mcpp.n][j] for j in range(mcpp.n)],[\n",
    "    lpDot([And(model,X[i][j-1][k1],X[i][j][k2],f\"{i}carries{k1}to{k2}in{j}\") \n",
    "               for j in range(1,mcpp.n) for k1 in range(mcpp.n+1) for k2 in range(mcpp.n+1) if k1!= k2]\n",
    "              ,[mcpp.D[k1][k2] for j in range(mcpp.n-1) for k1 in range(mcpp.n+1) for k2 in range(mcpp.n+1) if k1 != k2])]])\n",
    "\n",
    "#7. Goal function. We want to minimize the max distance.\n",
    "for i in range(mcpp.m):\n",
    "    model += maximum >= dist_courier[i] \n",
    "    \n",
    "model += maximum\n",
    "   \n",
    "model.solve()\n"
   ]
  },
  {
   "cell_type": "code",
   "execution_count": null,
   "metadata": {},
   "outputs": [
    {
     "ename": "NameError",
     "evalue": "name 'model' is not defined",
     "output_type": "error",
     "traceback": [
      "\u001b[1;31m---------------------------------------------------------------------------\u001b[0m",
      "\u001b[1;31mNameError\u001b[0m                                 Traceback (most recent call last)",
      "Cell \u001b[1;32mIn[25], line 8\u001b[0m\n\u001b[0;32m      5\u001b[0m position_counter \u001b[39m=\u001b[39m \u001b[39m0\u001b[39m\n\u001b[0;32m      6\u001b[0m matrix \u001b[39m=\u001b[39m []\n\u001b[1;32m----> 8\u001b[0m \u001b[39mfor\u001b[39;00m var \u001b[39min\u001b[39;00m model\u001b[39m.\u001b[39mvariables():\n\u001b[0;32m      9\u001b[0m     \u001b[39mif\u001b[39;00m \u001b[39m\"\u001b[39m\u001b[39mX\u001b[39m\u001b[39m\"\u001b[39m \u001b[39min\u001b[39;00m var\u001b[39m.\u001b[39mname:\n\u001b[0;32m     10\u001b[0m         \u001b[39mif\u001b[39;00m counter \u001b[39m<\u001b[39m\u001b[39m=\u001b[39m mcpp\u001b[39m.\u001b[39mn \u001b[39m*\u001b[39m mcpp\u001b[39m.\u001b[39mm \u001b[39m*\u001b[39m (mcpp\u001b[39m.\u001b[39mn \u001b[39m+\u001b[39m \u001b[39m1\u001b[39m) \u001b[39m-\u001b[39m \u001b[39m1\u001b[39m:\n",
      "\u001b[1;31mNameError\u001b[0m: name 'model' is not defined"
     ]
    }
   ],
   "source": [
    "counter = 0\n",
    "counter_pack = 0\n",
    "pack = []\n",
    "position = []\n",
    "position_counter = 0\n",
    "matrix = []\n",
    "\n",
    "for var in model.variables():\n",
    "    if \"X\" in var.name:\n",
    "        if counter <= mcpp.n * mcpp.m * (mcpp.n + 1) - 1:\n",
    "            pack.append(var.varValue)\n",
    "            counter_pack += 1\n",
    "            if counter_pack == mcpp.n+1:\n",
    "                position.append(np.argmax(pack))\n",
    "                counter_pack = 0\n",
    "                pack = []\n",
    "                position_counter += 1 \n",
    "            if position_counter == (mcpp.n ):\n",
    "                matrix.append(position)\n",
    "                position = []\n",
    "                position_counter = 0\n",
    "            counter += 1\n",
    "        \n",
    "for row in matrix:\n",
    "    print(row)\n",
    "\n",
    "for var in model.variables():\n",
    "    if \"dist_cour\" in var.name: \n",
    "        print(var.name, var.varValue)\n"
   ]
  }
 ],
 "metadata": {
  "kernelspec": {
   "display_name": "Python 3",
   "language": "python",
   "name": "python3"
  },
  "language_info": {
   "codemirror_mode": {
    "name": "ipython",
    "version": 3
   },
   "file_extension": ".py",
   "mimetype": "text/x-python",
   "name": "python",
   "nbconvert_exporter": "python",
   "pygments_lexer": "ipython3",
   "version": "3.9.6"
  },
  "orig_nbformat": 4
 },
 "nbformat": 4,
 "nbformat_minor": 2
}
