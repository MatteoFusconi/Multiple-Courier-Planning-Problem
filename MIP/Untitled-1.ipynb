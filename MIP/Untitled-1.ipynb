{
 "cells": [
  {
   "cell_type": "code",
   "execution_count": 17,
   "metadata": {},
   "outputs": [],
   "source": [
    "from pulp import *\n",
    "import numpy as np\n",
    "from mpi_utils import *"
   ]
  },
  {
   "cell_type": "code",
   "execution_count": 19,
   "metadata": {},
   "outputs": [],
   "source": [
    "class Mcpp_var:\n",
    "     def __init__(self, m, n, l, s, D):\n",
    "        self.m = m\n",
    "        self.n = n\n",
    "        self.l = l\n",
    "        self.s = s\n",
    "        self.D = D\n",
    "\n",
    "\n",
    "def load_instances(num: int):\n",
    "  if num < 10:\n",
    "    num = \"0\"+str(num)\n",
    "  else:\n",
    "    num = str(num)\n",
    "  \n",
    "  file = open(f\"Instances/inst{num}.dat\", 'r')\n",
    "  \n",
    "  m = int(file.readline())\n",
    "  n = int(file.readline())\n",
    "  l = [int(x) for x in file.readline().split(\" \") if x!= \"\"]\n",
    "  s = [int(x) for x in file.readline().split(\" \") if x!= \"\"]\n",
    "  D = []\n",
    "  for i in range(n+1):\n",
    "      D.append([int(x) for x in file.readline().split(\" \") if x!= \"\\n\" if x!= \"\"])\n",
    "  \n",
    "  return Mcpp_var(m, n, l, s, D)   "
   ]
  },
  {
   "cell_type": "code",
   "execution_count": 20,
   "metadata": {},
   "outputs": [],
   "source": [
    "mcpp = load_instances(1)"
   ]
  },
  {
   "cell_type": "code",
   "execution_count": 21,
   "metadata": {},
   "outputs": [],
   "source": [
    "def And(model, a, b, name):\n",
    "        \"\"\"\n",
    "        And(a,b)\n",
    "        :param a: first parameter of And condition\n",
    "        :param b: second parameter of And condition\n",
    "        :param name: name of the And\n",
    "        :return: 1 if a and b is true, false otherwise\n",
    "        \"\"\"\n",
    "        delta = LpVariable(cat=LpInteger, name=name)\n",
    "        model += delta <= a\n",
    "        model += delta >= a + b - 1\n",
    "        model += delta >= 0\n",
    "        model += delta <= b\n",
    "        return delta\n",
    "def linear_prod(model, binary_var, countinuos_var, ub, name):\n",
    "        \"\"\"\n",
    "        res = binary_var * countinuos_var\n",
    "        :param binary_var: binary variable\n",
    "        :param countinuos_var: countinuos variable\n",
    "        :param ub: upper bound of the countinuos variable\n",
    "        :param name: name of the product\n",
    "        :return: the result of the product\n",
    "        \"\"\"\n",
    "        res = LpVariable(cat=LpInteger, name=name)\n",
    "        model += ub * binary_var >= res\n",
    "        model += countinuos_var >= res\n",
    "        model += countinuos_var - (1 - binary_var) * ub <= res\n",
    "        model += res >= 0\n",
    "        return res"
   ]
  },
  {
   "cell_type": "code",
   "execution_count": 22,
   "metadata": {},
   "outputs": [
    {
     "data": {
      "text/plain": [
       "1"
      ]
     },
     "execution_count": 22,
     "metadata": {},
     "output_type": "execute_result"
    }
   ],
   "source": [
    "# matrix m*n*n+1 where we have couriers, order and packages\n",
    "X  = [[[LpVariable(name = f'X_{i}_{k}_{j}', lowBound = 0, upBound = 1, cat = LpBinary) \n",
    "        for j in range(mcpp.n+1)] for k in range(mcpp.n)] for i in range(mcpp.m)]\n",
    "\n",
    "#distance made by each courier\n",
    "dist_courier = [LpVariable(name = f'dist_cour{i}', cat = LpInteger) for i in range(mcpp.m)]\n",
    "\n",
    "# partial distance made by each courier\n",
    "dist_par  = [[LpVariable(name = f'dist{i}_{j}', cat = LpInteger) for j in range(mcpp.n + 2 )] for i in range(mcpp.m)] \n",
    "\n",
    "maximum = LpVariable(name=f'maximum', lowBound = 0, upBound = 10000, cat = LpInteger)\n",
    "\n",
    "model = LpProblem(name=f'mcpp1', sense=LpMinimize)\n",
    "\n",
    "#1. One hot encoding \n",
    "for i in range(mcpp.m):\n",
    "    for k in range(mcpp.n):\n",
    "        model += lpSum(X[i][k]) == 1\n",
    "\n",
    "#2. Each element only once in the cube\n",
    "for j in range(1,mcpp.n + 1):\n",
    "    model += lpSum([[X[i][k][j] for k in range(mcpp.n)] for i in range(mcpp.m)]) == 1\n",
    "\n",
    "#3. Load size constraint ( migliora con LpAffineSumExpression)\n",
    "for i in range(mcpp.m):\n",
    "    model += lpSum([mcpp.s[j]*X[i][k][j+1] for j in range(mcpp.n) for k in range(mcpp.n)]) <= mcpp.l[i]\n",
    " \n",
    "#4. Every courier must start.\n",
    "model += lpSum(X[i][0][0] for i in range(mcpp.m)) == 0\n",
    "\n",
    "#5. Constraint that if I see a 0, all the following element for a courier must be 0.\n",
    "for i in range(mcpp.m):\n",
    "   ...\n",
    "\n",
    "\n",
    "# 6. Distances traveled by each courier\n",
    "for i in range(mcpp.m):\n",
    "    model += dist_par[i][0] == lpSum([X[i][0][j] * mcpp.D[mcpp.n][j] for j in range(mcpp.n)])\n",
    "    for k in range(1, mcpp.n):\n",
    "        model += dist_par[i][k] == LpAffineExpression([(X[i][k - 1][j], mcpp.D[j][j2]) \n",
    "                                                       for j in range(mcpp.n) for j2 in range(mcpp.n)])\n",
    "\n",
    "for i in range(mcpp.m):\n",
    "    model += dist_courier[i] == lpSum(dist_par[i])\n",
    "\n",
    "#7. Goal function. We want to minimize the max distance.\n",
    "for i in range(mcpp.m):\n",
    "    model += maximum >= lpSum(dist_par[i]) \n",
    "model += maximum\n",
    "   \n",
    "model.solve()\n"
   ]
  }
 ],
 "metadata": {
  "kernelspec": {
   "display_name": "Python 3",
   "language": "python",
   "name": "python3"
  },
  "language_info": {
   "codemirror_mode": {
    "name": "ipython",
    "version": 3
   },
   "file_extension": ".py",
   "mimetype": "text/x-python",
   "name": "python",
   "nbconvert_exporter": "python",
   "pygments_lexer": "ipython3",
   "version": "3.9.4"
  },
  "orig_nbformat": 4
 },
 "nbformat": 4,
 "nbformat_minor": 2
}
