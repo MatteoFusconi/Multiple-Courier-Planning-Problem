{
 "cells": [
  {
   "cell_type": "code",
   "execution_count": 1,
   "metadata": {},
   "outputs": [],
   "source": [
    "from pulp import *\n",
    "import numpy as np\n",
    "from mpi_utils import *\n",
    "import itertools\n"
   ]
  },
  {
   "cell_type": "code",
   "execution_count": 2,
   "metadata": {},
   "outputs": [],
   "source": [
    "class Mcpp_var:\n",
    "     def __init__(self, m, n, l, s, D):\n",
    "        self.m = m\n",
    "        self.n = n\n",
    "        self.l = l\n",
    "        self.s = s\n",
    "        self.D = D\n",
    "\n",
    "\n",
    "def load_instances(num: int):\n",
    "  if num < 10:\n",
    "    num = \"0\"+str(num)\n",
    "  else:\n",
    "    num = str(num)\n",
    "  \n",
    "  file = open(f\"../input/inst{num}.dat\", 'r')\n",
    "  \n",
    "  m = int(file.readline())\n",
    "  n = int(file.readline())\n",
    "  l = [int(x) for x in file.readline().split(\" \") if x!= \"\"]\n",
    "  s = [int(x) for x in file.readline().split(\" \") if x!= \"\"]\n",
    "  D = []\n",
    "  for i in range(n+1):\n",
    "      D.append([int(x) for x in file.readline().split(\" \") if x!= \"\\n\" if x!= \"\"])\n",
    "  \n",
    "  return Mcpp_var(m, n, l, s, D)   "
   ]
  },
  {
   "cell_type": "code",
   "execution_count": 3,
   "metadata": {},
   "outputs": [],
   "source": [
    "mcpp = load_instances(1)"
   ]
  },
  {
   "cell_type": "code",
   "execution_count": 4,
   "metadata": {},
   "outputs": [
    {
     "name": "stdout",
     "output_type": "stream",
     "text": [
      "sorted_list = [1, 2, 2, 3]\n",
      "sorting_dict = {2: [[0, 1], [3, 1]], 3: [[1, 3]], 1: [[2, 0]]}\n"
     ]
    }
   ],
   "source": [
    "# Lista data\n",
    "L = [2, 3, 1, 2]\n",
    "\n",
    "# Ordina la lista e memorizza gli indici originali\n",
    "sorted_list = sorted(L)\n",
    "sorting_dict = {}\n",
    "\n",
    "for index, element in enumerate(L):\n",
    "    if element not in sorting_dict:\n",
    "        sorting_dict[element] = []\n",
    "    sorting_dict[element].append([index, sorted_list.index(element)])\n",
    "\n",
    "# Stampare la lista ordinata e il dizionario\n",
    "print(\"sorted_list =\", sorted_list)\n",
    "print(\"sorting_dict =\", sorting_dict)\n",
    "\n"
   ]
  },
  {
   "cell_type": "code",
   "execution_count": 5,
   "metadata": {},
   "outputs": [
    {
     "name": "stdout",
     "output_type": "stream",
     "text": [
      "[[5], [2, 4, 5, 6], [12, 0], [1, 3], [1, 2, 3, 4, 5]]\n"
     ]
    }
   ],
   "source": [
    "L = [[1,3],[5],[2,4,5,6],[12,0],[1,2,3,4,5]]\n",
    "sorted_dict = {12:[1,2],19:[0,1],22:[3,0],13:[2,3],31:[4,4]}\n",
    "\n",
    "# Creare una lista temporanea con le coppie (valore del dizionario, indice della lista iniziale)\n",
    "temp = [(sorted_dict[val][0], val, sorted_dict[val][1]) for val in sorted_dict]\n",
    "\n",
    "# Ordinare la lista temporanea in base ai valori del dizionario\n",
    "temp.sort()\n",
    "\n",
    "# Costruire la lista result_L riorganizzando gli elementi di L in base agli indici ottenuti dalla lista temporanea\n",
    "result_L = [L[index] for _, _, index in temp]\n",
    "\n",
    "print(result_L)\n",
    "\n"
   ]
  },
  {
   "cell_type": "markdown",
   "metadata": {},
   "source": [
    "# modello CVRP\n"
   ]
  },
  {
   "cell_type": "code",
   "execution_count": 6,
   "metadata": {},
   "outputs": [],
   "source": [
    "#  has a value of 1 if the arc from node to node is in the optimal route and is driven by vehicle k\n",
    "X = [[[ LpVariable(name=f'X_{i}_{j}_{k}', lowBound=0, upBound=1, cat=LpBinary) for k in range(mcpp.m) ] for j in range(mcpp.n + 1) ] for i in range(mcpp.n + 1)]\n",
    "# Create the distance variables for each courier\n",
    "dist_courier = [LpVariable(name=f'dist_cour_{i}', cat=LpInteger , lowBound = 0, upBound=10000) for i in range(mcpp.m)]\n",
    "maximum = LpVariable(name=f'maximum', lowBound = 0, upBound =10000 , cat = LpInteger)\n",
    "model3 = LpProblem(name=f'mcpp3', sense=LpMinimize)\n"
   ]
  },
  {
   "cell_type": "code",
   "execution_count": 7,
   "metadata": {},
   "outputs": [],
   "source": [
    "#1. vehicle leaves node that it enters\n",
    "for j in range(mcpp.n + 1):\n",
    "    for k in range(mcpp.m):\n",
    "        model3 += lpSum([X[i][j][k] for i in range(mcpp.n + 1)]) == lpSum([X[j][i][k] for i in range(mcpp.n + 1)])\n",
    "\n",
    "\n",
    "# #2 every node is entered once\n",
    "for j in range (mcpp.n):\n",
    "    model3 += lpSum([[X[i][j][k] for i in range(mcpp.n + 1)] for k in range(mcpp.m)]) == 1\n",
    "\n",
    "# # no travel from a node to itself\n",
    "for i in range(mcpp.n + 1):\n",
    "    for k in range(mcpp.m):\n",
    "        model3 += X[i][i][k] == 0\n",
    "\n",
    " #3 every vehicles leaves the depot\n",
    "for k in range(mcpp.m):\n",
    "   model3+= lpSum(X[mcpp.n][j][k] for j in range(mcpp.n)) == 1\n",
    "\n",
    "# #4 load constraint\n",
    "for k in range(mcpp.m):\n",
    "    model3 += lpSum([mcpp.s[j]*X[i][j][k] for j in range( mcpp.n ) for i in range(mcpp.n + 1)]) <= mcpp.l[k]\n",
    "\n",
    "# avoid symmetry\n",
    "for i in range(mcpp.n):\n",
    "     for j in range(mcpp.n):\n",
    "         if i != j:\n",
    "             model3 += lpSum(X[i][j][k] for k in range(mcpp.m)) + lpSum(X[j][i][k] for k in range(mcpp.m)) <= 1\n",
    "\n",
    "\n",
    "# distance constraint\n",
    "for k in range(mcpp.m): \n",
    "  model3 += dist_courier[k] == lpSum(mcpp.D[i][j] * X[i][j][k] for j in range(mcpp.n + 1) for i in range(mcpp.n + 1))\n",
    "\n",
    "#7. Goal function. We want to minimize the max distance.\n",
    "for i in range(mcpp.m):\n",
    "     model3 += maximum >= dist_courier[i] \n",
    "\n",
    "\n",
    "model3 += maximum\n",
    "   \n",
    "#model3.solve() "
   ]
  },
  {
   "cell_type": "code",
   "execution_count": 8,
   "metadata": {},
   "outputs": [
    {
     "name": "stdout",
     "output_type": "stream",
     "text": [
      "Welcome to the CBC MILP Solver \n",
      "Version: 2.10.3 \n",
      "Build Date: Dec 15 2019 \n",
      "\n",
      "command line - /home/utente/.local/lib/python3.8/site-packages/pulp/solverdir/cbc/linux/64/cbc /tmp/66f5660210fb4eee971a3d02d2cdb8b4-pulp.mps timeMode elapsed branch printingOptions all solution /tmp/66f5660210fb4eee971a3d02d2cdb8b4-pulp.sol (default strategy 1)\n",
      "At line 2 NAME          MODEL\n",
      "At line 3 ROWS\n",
      "At line 77 COLUMNS\n",
      "At line 867 RHS\n",
      "At line 940 BOUNDS\n",
      "At line 1042 ENDATA\n",
      "Problem MODEL has 72 rows, 101 columns and 572 elements\n",
      "Coin0008I MODEL read with 0 errors\n",
      "Option for timeMode changed from cpu to elapsed\n",
      "Continuous objective value is 10 - 0.00 seconds\n",
      "Cgl0002I 14 variables fixed\n",
      "Cgl0003I 2 fixed, 0 tightened bounds, 1 strengthened rows, 0 substitutions\n",
      "Cgl0003I 0 fixed, 0 tightened bounds, 1 strengthened rows, 0 substitutions\n",
      "Cgl0003I 0 fixed, 0 tightened bounds, 1 strengthened rows, 0 substitutions\n",
      "Cgl0003I 0 fixed, 0 tightened bounds, 1 strengthened rows, 0 substitutions\n",
      "Cgl0003I 0 fixed, 0 tightened bounds, 1 strengthened rows, 0 substitutions\n",
      "Cgl0003I 0 fixed, 0 tightened bounds, 1 strengthened rows, 0 substitutions\n",
      "Cgl0003I 0 fixed, 0 tightened bounds, 1 strengthened rows, 0 substitutions\n",
      "Cgl0003I 0 fixed, 0 tightened bounds, 1 strengthened rows, 0 substitutions\n",
      "Cgl0003I 0 fixed, 0 tightened bounds, 1 strengthened rows, 0 substitutions\n",
      "Cgl0004I processed model has 41 rows, 83 columns (83 integer (82 of which binary)) and 467 elements\n",
      "Cutoff increment increased from 1e-05 to 0.9999\n",
      "Cbc0038I Initial state - 20 integers unsatisfied sum - 6.73684\n",
      "Cbc0038I Pass   1: suminf.    5.00000 (10) obj. 15 iterations 22\n",
      "Cbc0038I Pass   2: suminf.    5.00000 (10) obj. 15 iterations 8\n",
      "Cbc0038I Pass   3: suminf.    1.15385 (11) obj. 11.3846 iterations 15\n",
      "Cbc0038I Pass   4: suminf.    0.84615 (7) obj. 11.3846 iterations 15\n",
      "Cbc0038I Pass   5: suminf.    1.15385 (7) obj. 10.7692 iterations 17\n",
      "Cbc0038I Pass   6: suminf.    6.50000 (20) obj. 15.9545 iterations 23\n",
      "Cbc0038I Pass   7: suminf.    3.60000 (9) obj. 18.6 iterations 19\n",
      "Cbc0038I Pass   8: suminf.    2.66667 (11) obj. 18 iterations 11\n",
      "Cbc0038I Pass   9: suminf.    3.00000 (12) obj. 18.6 iterations 8\n",
      "Cbc0038I Pass  10: suminf.    3.00000 (6) obj. 20 iterations 16\n",
      "Cbc0038I Pass  11: suminf.    3.00000 (6) obj. 20 iterations 11\n",
      "Cbc0038I Pass  12: suminf.    1.16667 (7) obj. 17.1667 iterations 7\n",
      "Cbc0038I Pass  13: suminf.    0.74194 (16) obj. 16.9677 iterations 16\n",
      "Cbc0038I Pass  14: suminf.    5.00000 (10) obj. 14 iterations 19\n",
      "Cbc0038I Pass  15: suminf.    0.00000 (0) obj. 16 iterations 14\n",
      "Cbc0038I Solution found of 16\n",
      "Cbc0038I Cleaned solution of 16\n",
      "Cbc0038I Before mini branch and bound, 29 integers at bound fixed and 0 continuous\n",
      "Cbc0038I Full problem 41 rows 83 columns, reduced to 38 rows 54 columns\n",
      "Cbc0038I Mini branch and bound improved solution from 16 to 14 (0.03 seconds)\n",
      "Cbc0038I Round again with cutoff of 12.7001\n",
      "Cbc0038I Pass  16: suminf.    1.65957 (15) obj. 12 iterations 4\n",
      "Cbc0038I Pass  17: suminf.    0.84615 (7) obj. 11.3846 iterations 19\n",
      "Cbc0038I Pass  18: suminf.    1.15385 (7) obj. 10.7692 iterations 23\n",
      "Cbc0038I Pass  19: suminf.    4.39519 (15) obj. 12.7001 iterations 27\n",
      "Cbc0038I Pass  20: suminf.    2.34082 (10) obj. 12.7001 iterations 22\n",
      "Cbc0038I Pass  21: suminf.    2.34082 (10) obj. 12.7001 iterations 8\n",
      "Cbc0038I Pass  22: suminf.    1.22299 (7) obj. 12.7001 iterations 23\n",
      "Cbc0038I Pass  23: suminf.    0.76145 (7) obj. 12.7001 iterations 20\n",
      "Cbc0038I Pass  24: suminf.    1.22299 (7) obj. 12.7001 iterations 23\n",
      "Cbc0038I Pass  25: suminf.    7.19269 (22) obj. 12.7001 iterations 30\n",
      "Cbc0038I Pass  26: suminf.    3.09997 (11) obj. 12.7001 iterations 18\n",
      "Cbc0038I Pass  27: suminf.    2.63324 (8) obj. 12.7001 iterations 14\n",
      "Cbc0038I Pass  28: suminf.    3.07769 (8) obj. 12.7001 iterations 13\n",
      "Cbc0038I Pass  29: suminf.    2.63324 (8) obj. 12.7001 iterations 7\n",
      "Cbc0038I Pass  30: suminf.    3.07769 (8) obj. 12.7001 iterations 16\n",
      "Cbc0038I Pass  31: suminf.    6.04954 (16) obj. 12.7001 iterations 23\n",
      "Cbc0038I Pass  32: suminf.    4.14234 (18) obj. 12.7001 iterations 16\n",
      "Cbc0038I Pass  33: suminf.    6.24530 (25) obj. 12.7001 iterations 20\n",
      "Cbc0038I Pass  34: suminf.    4.81810 (19) obj. 12.7001 iterations 17\n",
      "Cbc0038I Pass  35: suminf.    4.51656 (17) obj. 12.7001 iterations 8\n",
      "Cbc0038I Pass  36: suminf.    4.74212 (17) obj. 12.7001 iterations 11\n",
      "Cbc0038I Pass  37: suminf.    4.51656 (17) obj. 12.7001 iterations 9\n",
      "Cbc0038I Pass  38: suminf.    4.74212 (17) obj. 12.7001 iterations 10\n",
      "Cbc0038I Pass  39: suminf.    4.51921 (19) obj. 12.7001 iterations 11\n",
      "Cbc0038I Pass  40: suminf.    6.33174 (23) obj. 12.7001 iterations 18\n",
      "Cbc0038I Pass  41: suminf.    3.55685 (25) obj. 12.7001 iterations 16\n",
      "Cbc0038I Pass  42: suminf.    3.47480 (21) obj. 12.7001 iterations 6\n",
      "Cbc0038I Pass  43: suminf.    6.23595 (18) obj. 12.7001 iterations 25\n",
      "Cbc0038I Pass  44: suminf.    0.76145 (7) obj. 12.7001 iterations 20\n",
      "Cbc0038I Pass  45: suminf.    0.76145 (7) obj. 12.7001 iterations 14\n",
      "Cbc0038I No solution found this major pass\n",
      "Cbc0038I Before mini branch and bound, 18 integers at bound fixed and 0 continuous\n",
      "Cbc0038I Full problem 41 rows 83 columns, reduced to 40 rows 65 columns\n",
      "Cbc0038I Mini branch and bound did not improve solution (0.05 seconds)\n",
      "Cbc0038I After 0.05 seconds - Feasibility pump exiting with objective of 14 - took 0.04 seconds\n",
      "Cbc0012I Integer solution of 14 found by feasibility pump after 0 iterations and 0 nodes (0.05 seconds)\n",
      "Cbc0031I 9 added rows had average density of 22.888889\n",
      "Cbc0013I At root node, 9 cuts changed objective from 10 to 12.153846 in 19 passes\n",
      "Cbc0014I Cut generator 0 (Probing) - 3 row cuts average 5.3 elements, 1 column cuts (1 active)  in 0.006 seconds - new frequency is -100\n",
      "Cbc0014I Cut generator 1 (Gomory) - 144 row cuts average 72.0 elements, 0 column cuts (0 active)  in 0.004 seconds - new frequency is 1\n",
      "Cbc0014I Cut generator 2 (Knapsack) - 1 row cuts average 30.0 elements, 0 column cuts (0 active)  in 0.002 seconds - new frequency is -100\n",
      "Cbc0014I Cut generator 3 (Clique) - 0 row cuts average 0.0 elements, 0 column cuts (0 active)  in 0.000 seconds - new frequency is -100\n",
      "Cbc0014I Cut generator 4 (MixedIntegerRounding2) - 1 row cuts average 35.0 elements, 0 column cuts (0 active)  in 0.001 seconds - new frequency is -100\n",
      "Cbc0014I Cut generator 5 (FlowCover) - 0 row cuts average 0.0 elements, 0 column cuts (0 active)  in 0.000 seconds - new frequency is -100\n",
      "Cbc0014I Cut generator 6 (TwoMirCuts) - 118 row cuts average 51.4 elements, 0 column cuts (0 active)  in 0.003 seconds - new frequency is 1\n",
      "Cbc0014I Cut generator 7 (ZeroHalf) - 58 row cuts average 22.9 elements, 0 column cuts (0 active)  in 0.005 seconds - new frequency is 1\n",
      "Cbc0010I After 0 nodes, 1 on tree, 14 best solution, best possible 13 (0.09 seconds)\n",
      "Cbc0001I Search completed - best objective 14, took 775 iterations and 14 nodes (0.16 seconds)\n",
      "Cbc0032I Strong branching done 258 times (2497 iterations), fathomed 4 nodes and fixed 24 variables\n",
      "Cbc0035I Maximum depth 5, 13 variables fixed on reduced cost\n",
      "Cuts at root node changed objective from 10 to 13\n",
      "Probing was tried 19 times and created 4 cuts of which 0 were active after adding rounds of cuts (0.006 seconds)\n",
      "Gomory was tried 41 times and created 152 cuts of which 0 were active after adding rounds of cuts (0.006 seconds)\n",
      "Knapsack was tried 19 times and created 1 cuts of which 0 were active after adding rounds of cuts (0.002 seconds)\n",
      "Clique was tried 19 times and created 0 cuts of which 0 were active after adding rounds of cuts (0.000 seconds)\n",
      "MixedIntegerRounding2 was tried 19 times and created 1 cuts of which 0 were active after adding rounds of cuts (0.001 seconds)\n",
      "FlowCover was tried 19 times and created 0 cuts of which 0 were active after adding rounds of cuts (0.000 seconds)\n",
      "TwoMirCuts was tried 41 times and created 190 cuts of which 0 were active after adding rounds of cuts (0.005 seconds)\n",
      "ZeroHalf was tried 41 times and created 147 cuts of which 0 were active after adding rounds of cuts (0.010 seconds)\n",
      "ImplicationCuts was tried 22 times and created 2 cuts of which 0 were active after adding rounds of cuts (0.000 seconds)\n",
      "\n",
      "Result - Optimal solution found\n",
      "\n",
      "Objective value:                14.00000000\n",
      "Enumerated nodes:               14\n",
      "Total iterations:               775\n",
      "Time (CPU seconds):             0.16\n",
      "Time (Wallclock seconds):       0.16\n",
      "\n",
      "Option for printingOptions changed from normal to all\n",
      "Total time (CPU seconds):       0.16   (Wallclock seconds):       0.16\n",
      "\n"
     ]
    },
    {
     "data": {
      "text/plain": [
       "1"
      ]
     },
     "execution_count": 8,
     "metadata": {},
     "output_type": "execute_result"
    }
   ],
   "source": [
    "model3.solve()"
   ]
  },
  {
   "cell_type": "code",
   "execution_count": 9,
   "metadata": {},
   "outputs": [
    {
     "name": "stdout",
     "output_type": "stream",
     "text": [
      "Solution Matrix:\n",
      "[[0, 0], [0, 0], [0, 0], [0, 0], [0, 0], [0, 0], [0, 1]]\n",
      "[[0, 0], [0, 0], [0, 0], [0, 0], [0, 0], [0, 0], [1, 0]]\n",
      "[[0, 1], [0, 0], [0, 0], [0, 0], [0, 0], [0, 0], [0, 0]]\n",
      "[[0, 0], [0, 0], [0, 0], [0, 0], [1, 0], [0, 0], [0, 0]]\n",
      "[[0, 0], [0, 0], [0, 0], [0, 0], [0, 0], [1, 0], [0, 0]]\n",
      "[[0, 0], [0, 0], [0, 0], [1, 0], [0, 0], [0, 0], [0, 0]]\n",
      "[[0, 0], [1, 0], [0, 1], [0, 0], [0, 0], [0, 0], [0, 0]]\n",
      " \n",
      " dist mcpp:\n",
      "[0, 3, 4, 5, 6, 6, 2]\n",
      "[3, 0, 1, 4, 5, 7, 3]\n",
      "[4, 1, 0, 5, 6, 6, 4]\n",
      "[4, 4, 5, 0, 3, 3, 2]\n",
      "[6, 7, 8, 3, 0, 2, 4]\n",
      "[6, 7, 8, 3, 2, 0, 4]\n",
      "[2, 3, 4, 3, 4, 4, 0]\n",
      " \n",
      " dist Matrix:\n",
      "14\n",
      "10\n"
     ]
    }
   ],
   "source": [
    "# Retrieve the solution values if needed\n",
    "solution_matrix = [[[int(X[i][j][k].varValue) for k in range(mcpp.m)] for j in range(mcpp.n + 1)] for i in range(mcpp.n + 1)]\n",
    "dist_cour_mat = [int(dist_courier[k].varValue) for k in range(mcpp.m)]\n",
    "\n",
    "print(\"Solution Matrix:\")\n",
    "for row in solution_matrix:\n",
    "     print(row)\n",
    "\n",
    "# print(\" \\n pck Matrix:\")\n",
    "# for row in pck_matr:\n",
    "#     print(row)\n",
    "print(\" \\n dist mcpp:\")\n",
    "for row in mcpp.D:\n",
    "     print(row)\n",
    "\n",
    "print(\" \\n dist Matrix:\")\n",
    "for row in dist_cour_mat:\n",
    "    print(row)\n",
    "\n",
    "\n",
    "\n"
   ]
  },
  {
   "cell_type": "markdown",
   "metadata": {},
   "source": [
    "# Metodi modello 1 e 2"
   ]
  },
  {
   "cell_type": "code",
   "execution_count": 29,
   "metadata": {},
   "outputs": [],
   "source": [
    "def And(model, a, b, name):\n",
    "        \"\"\"\n",
    "        And(a,b)\n",
    "        :param a: first parameter of And condition\n",
    "        :param b: second parameter of And condition\n",
    "        :param name: name of the And\n",
    "        :return: 1 if a and b is true, false otherwise\n",
    "        \"\"\"\n",
    "        delta = LpVariable(cat=LpInteger, name=name)\n",
    "        model += delta <= a\n",
    "        model += delta >= a + b - 1\n",
    "        model += delta >= 0\n",
    "        model += delta <= b\n",
    "        return delta\n",
    "\n",
    "def linear_prod(model, binary_var, countinuos_var, ub, name):\n",
    "        \"\"\"\n",
    "        res = binary_var * countinuos_var\n",
    "        :param binary_var: binary variable\n",
    "        :param countinuos_var: countinuos variable\n",
    "        :param ub: upper bound of the countinuos variable\n",
    "        :param name: name of the product\n",
    "        :return: the result of the product\n",
    "        \"\"\"\n",
    "        res = LpVariable(cat=LpInteger, name=name)\n",
    "        model += ub * binary_var >= res\n",
    "        model += countinuos_var >= res\n",
    "        model += countinuos_var - (1 - binary_var) * ub <= res\n",
    "        model += res >= 0\n",
    "        return res\n",
    "\n",
    "M = 1000\n",
    "\n",
    "def If(model, a, b, M, name):\n",
    "    delta = LpVariable(cat=LpBinary, name=name)\n",
    "    model += a - b <= M * delta\n",
    "    model += b - a <= M * (1 - delta)\n",
    "    return delta\n",
    "\n",
    "\n"
   ]
  },
  {
   "cell_type": "markdown",
   "metadata": {},
   "source": [
    "# Nuovo modello"
   ]
  },
  {
   "cell_type": "markdown",
   "metadata": {},
   "source": [
    "Per il nuovo modello ho pensato di sfruttare una maschera (pck) per capire il percorso dei pacchi dato che era la cosa che negli altri approcci risultava un po' più problematica (non potento usare Lpvariable per scorrere la matrice D).\n",
    "pck contiene i percorsi - da quale pacco a quale pacco - e X i pacchi presi da ciascun corriere. \n",
    "Ho pensato che se ogni corriere parte esattamente una volta deposito da li oi il percorso può essere ricostruito a ritroso senza avere un vettore per gli ordini.\n",
    "\n"
   ]
  },
  {
   "cell_type": "code",
   "execution_count": 37,
   "metadata": {},
   "outputs": [],
   "source": [
    "#couriers and packages matrix\n",
    "X = [[ LpVariable(name=f'X_{i}_{k}', lowBound=0, upBound=1, cat=LpBinary) for k in range(mcpp.n) ] for i in range(mcpp.m) ]\n",
    "\n",
    "#binary mask of packages' path \n",
    "pck = [[ LpVariable(name=f'pck_{i}_{k}', lowBound=0, upBound=1, cat=LpBinary) for k in range(mcpp.n + 1)] for i in range(mcpp.n + 1) ]\n",
    "\n",
    "# Create the distance variables for each courier\n",
    "dist_courier = [LpVariable(name=f'dist_cour{i}', cat=LpInteger , lowBound = 0, upBound=500) for i in range(mcpp.m)]\n",
    "\n",
    "# Create the distance variables for each courier\n",
    "\n",
    "\n",
    "maximum = LpVariable(name='maximum', lowBound=0, upBound=500, cat=LpInteger)\n",
    "\n"
   ]
  },
  {
   "cell_type": "code",
   "execution_count": 38,
   "metadata": {},
   "outputs": [
    {
     "data": {
      "text/plain": [
       "1"
      ]
     },
     "execution_count": 38,
     "metadata": {},
     "output_type": "execute_result"
    }
   ],
   "source": [
    "# Create the PuLP model\n",
    "model2 = LpProblem(name='mcpp2', sense=LpMinimize)\n",
    "\n",
    "#1. each package has to be choosen \n",
    "for j in range(mcpp.n):\n",
    "    model2 += lpSum([X[i][j] for i in range(mcpp.m)]) == 1 \n",
    "\n",
    "#2.  pck diagonal should be 0\n",
    "for i in range(mcpp.n + 1):\n",
    "    model2 += pck[i][i] == 0   \n",
    "\n",
    "#3. each package should have a path assigned \n",
    "for i in range(mcpp.n): \n",
    "    model2 += lpSum(pck[i][j] for j in range(mcpp.n  + 1)) == 1\n",
    "\n",
    "for j in range(mcpp.n): \n",
    "    model2 += lpSum(pck[i][j] for i in range(mcpp.n  + 1)) ==1\n",
    "\n",
    "\n",
    "#4.a each courier should bring at least one package (maybe useless)\n",
    "for i in range(mcpp.m):\n",
    "    model2 += lpSum(X[i][j] for j in range(mcpp.n)) >= 1    \n",
    "#4.b since every courier bring a package m path should start from depot \n",
    "model2 += lpSum(pck[mcpp.n][j] for j in range(mcpp.n  + 1)) == mcpp.m\n",
    "#and m path should end in depot \n",
    "model2 += lpSum(pck[j][mcpp.n] for j in range(mcpp.n  + 1)) == mcpp.m\n",
    "\n",
    "#5. load size constraint \n",
    "for i in range(mcpp.m):\n",
    "    model2 += lpSum([mcpp.s[j]*X[i][j] for j in range(mcpp.n) ]) <= mcpp.l[i]\n",
    "    \n",
    "#6. no loop\n",
    "for i in range(mcpp.n):\n",
    "    for j in range(mcpp.n):\n",
    "        model2 += pck[i][j] + pck[j][i] <= 1\n",
    "\n",
    "#7. distance constraint\n",
    "\n",
    "for i in range(mcpp.m):\n",
    "  model2 += dist_courier[i] == lpSum([[And(model2, X[i][j], pck[mcpp.n][j], f'and_dist_dep{i}_{mcpp.n}_{j}') * mcpp.D[mcpp.n][j]\n",
    "                                      for j in range(mcpp.n  )], \n",
    "                                      [lpSum([And(model2, X[i][j], pck[j][j2], f'and_dist_{i}_{j}_{j2}') * mcpp.D[j][j2]\n",
    "                                      for j2 in range(mcpp.n +1 ) for j in range(mcpp.n )])\n",
    "                                      ]]) \n",
    " \n",
    "\n",
    "\n",
    "\n",
    "#8. the route has to be coherent with the assignment of the packages to the courier.\n",
    "for i in range(mcpp.m):\n",
    "    for j in range(mcpp.n):\n",
    "     for j2 in range(mcpp.n):\n",
    "        if(j != j2):\n",
    "            model2 += And(model2, pck[j][j2], X[i][j], f'coh_{i}_{j}_{j2}') == And(model2, pck[j][j2], X[i][j2], f'coh2_{i}_{j}_{j2}')\n",
    "\n",
    "\n",
    "#8a. also for the depot\n",
    "for i in range(mcpp.m):\n",
    "        model2 += lpSum(And(model2, X[i][j], pck[mcpp.n][j], f'and_dep_{i}{j}') for j in range(mcpp.n)) == 1\n",
    "        model2 += lpSum(And(model2, X[i][j], pck[j][mcpp.n], f'and_dep2_{i}{j}') for j in range(mcpp.n)) == 1\n",
    "\n",
    "\n",
    "#10. Goal function. We want to minimize the max distance.\n",
    "for i in range(mcpp.m):\n",
    "    model2 += maximum >= dist_courier[i] \n",
    "    \n",
    "model2 += maximum\n",
    "         \n",
    "\n",
    "# Solve the model\n",
    "model2.solve(CPLEX_CMD())"
   ]
  },
  {
   "cell_type": "code",
   "execution_count": 39,
   "metadata": {},
   "outputs": [
    {
     "name": "stdout",
     "output_type": "stream",
     "text": [
      "La soluzione è ottima.\n"
     ]
    }
   ],
   "source": [
    "status = LpStatus[model2.status]\n",
    "\n",
    "if status == \"Optimal\":\n",
    "    print(\"La soluzione è ottima.\")\n",
    "elif status == \"Infeasible\":\n",
    "    print(\"Il problema è infeasible.\")\n",
    "elif status == \"Unbounded\":\n",
    "    print(\"Il problema è illimitato.\")\n",
    "elif status == \"Undefined\":\n",
    "    print(\"Il problema è indefinito.\")\n",
    "else:\n",
    "    print(\"Stato sconosciuto.\")\n"
   ]
  },
  {
   "cell_type": "code",
   "execution_count": 41,
   "metadata": {},
   "outputs": [
    {
     "name": "stdout",
     "output_type": "stream",
     "text": [
      "Solution Matrix:\n",
      "[0, 1, 0]\n",
      "[1, 0, 1]\n",
      " \n",
      " pck Matrix:\n",
      "[0, 0, 1, 0]\n",
      "[0, 0, 0, 1]\n",
      "[0, 0, 0, 1]\n",
      "[1, 1, 0, 0]\n",
      " \n",
      " dist mcpp:\n",
      "[0, 21, 86, 99]\n",
      "[21, 0, 71, 80]\n",
      "[92, 71, 0, 61]\n",
      "[59, 80, 61, 0]\n",
      " \n",
      " dist Matrix:\n",
      "160\n",
      "206\n"
     ]
    }
   ],
   "source": [
    "# Retrieve the solution values if needed\n",
    "solution_matrix = [[int(X[i][k].varValue) for k in range(mcpp.n)] for i in range(mcpp.m)]\n",
    "pck_matr = [[int(pck[i][k].varValue) for k in range(mcpp.n + 1)] for i in range(mcpp.n + 1)]\n",
    "dist_cour_mat = [int(dist_courier[k].varValue) for k in range(mcpp.m)]\n",
    "\n",
    "print(\"Solution Matrix:\")\n",
    "for row in solution_matrix:\n",
    "    print(row)\n",
    "\n",
    "print(\" \\n pck Matrix:\")\n",
    "for row in pck_matr:\n",
    "    print(row)\n",
    "print(\" \\n dist mcpp:\")\n",
    "for row in mcpp.D:\n",
    "    print(row)\n",
    "print(\" \\n dist Matrix:\")\n",
    "for row in dist_cour_mat:\n",
    "    print(row)\n",
    "\n",
    "\n",
    "\n"
   ]
  },
  {
   "cell_type": "markdown",
   "metadata": {},
   "source": [
    "# Modello Binario Vecchio"
   ]
  },
  {
   "cell_type": "code",
   "execution_count": null,
   "metadata": {},
   "outputs": [
    {
     "data": {
      "text/plain": [
       "1"
      ]
     },
     "execution_count": 204,
     "metadata": {},
     "output_type": "execute_result"
    }
   ],
   "source": [
    "# matrix m*n*n+1 where we have couriers, order and packages\n",
    "X  = [[[LpVariable(name = f'X_{i}_{k}_{j}', lowBound = 0, upBound = 1, cat = LpBinary) \n",
    "        for j in range(mcpp.n+1)] for k in range(mcpp.n)] for i in range(mcpp.m)]\n",
    "\n",
    "#distance made by each courier\n",
    "dist_courier = [LpVariable(name = f'dist_cour{i}', cat = LpInteger,lowBound = 0, upBound = np.max(mcpp.D)*(mcpp.n-2)) \n",
    "                for i in range(mcpp.m)]\n",
    "\n",
    "maximum = LpVariable(name=f'maximum', lowBound = 0, upBound =np.max(mcpp.D)*(mcpp.n-2) , cat = LpInteger)\n",
    "\n",
    "model = LpProblem(name=f'mcpp1', sense=LpMinimize)\n",
    "\n",
    "#1. One hot encoding \n",
    "for i in range(mcpp.m):\n",
    "    for k in range(mcpp.n):\n",
    "        model += lpSum([X[i][k][j]for j in range(mcpp.n+1)]) == 1\n",
    "\n",
    "#2. Each element only once in the cube\n",
    "for j in range(mcpp.n):\n",
    "    model += lpSum([[X[i][k][j] for k in range(mcpp.n)] for i in range(mcpp.m)]) == 1\n",
    "\n",
    "#3. Load size constraint ( migliora con LpAffineSumExpression)\n",
    "for i in range(mcpp.m):\n",
    "    model += lpSum([mcpp.s[j]*X[i][k][j] for j in range(mcpp.n) for k in range(mcpp.n)]) <= mcpp.l[i]\n",
    " \n",
    "#4. Every courier must start.\n",
    "model += lpSum(X[i][0][mcpp.n] for i in range(mcpp.m)) == 0\n",
    "\n",
    "#5. Constraint that if I see a 0, all the following element for a courier must be 0.\n",
    "for i in range(mcpp.m):\n",
    "    for k in range(mcpp.n-1):\n",
    "            model += X[i][k][mcpp.n] - X[i][k+1][mcpp.n] <= 0 \n",
    "\n",
    "# 6. Distances traveled by each courier\n",
    "for i in range(mcpp.m):\n",
    "    model += dist_courier[i] == lpSum([[X[i][0][j] * mcpp.D[mcpp.n][j] for j in range(mcpp.n)],[\n",
    "    lpDot([And(model,X[i][j-1][k1],X[i][j][k2],f\"{i}carries{k1}to{k2}in{j}\") \n",
    "               for j in range(1,mcpp.n) for k1 in range(mcpp.n+1) for k2 in range(mcpp.n+1) if k1!= k2]\n",
    "              ,[mcpp.D[k1][k2] for j in range(mcpp.n-1) for k1 in range(mcpp.n+1) for k2 in range(mcpp.n+1) if k1 != k2])]])\n",
    "\n",
    "#7. Goal function. We want to minimize the max distance.\n",
    "for i in range(mcpp.m):\n",
    "    model += maximum >= dist_courier[i] \n",
    "    \n",
    "model += maximum\n",
    "   \n",
    "model.solve()\n"
   ]
  },
  {
   "cell_type": "code",
   "execution_count": null,
   "metadata": {},
   "outputs": [
    {
     "ename": "NameError",
     "evalue": "name 'model' is not defined",
     "output_type": "error",
     "traceback": [
      "\u001b[1;31m---------------------------------------------------------------------------\u001b[0m",
      "\u001b[1;31mNameError\u001b[0m                                 Traceback (most recent call last)",
      "Cell \u001b[1;32mIn[25], line 8\u001b[0m\n\u001b[0;32m      5\u001b[0m position_counter \u001b[39m=\u001b[39m \u001b[39m0\u001b[39m\n\u001b[0;32m      6\u001b[0m matrix \u001b[39m=\u001b[39m []\n\u001b[1;32m----> 8\u001b[0m \u001b[39mfor\u001b[39;00m var \u001b[39min\u001b[39;00m model\u001b[39m.\u001b[39mvariables():\n\u001b[0;32m      9\u001b[0m     \u001b[39mif\u001b[39;00m \u001b[39m\"\u001b[39m\u001b[39mX\u001b[39m\u001b[39m\"\u001b[39m \u001b[39min\u001b[39;00m var\u001b[39m.\u001b[39mname:\n\u001b[0;32m     10\u001b[0m         \u001b[39mif\u001b[39;00m counter \u001b[39m<\u001b[39m\u001b[39m=\u001b[39m mcpp\u001b[39m.\u001b[39mn \u001b[39m*\u001b[39m mcpp\u001b[39m.\u001b[39mm \u001b[39m*\u001b[39m (mcpp\u001b[39m.\u001b[39mn \u001b[39m+\u001b[39m \u001b[39m1\u001b[39m) \u001b[39m-\u001b[39m \u001b[39m1\u001b[39m:\n",
      "\u001b[1;31mNameError\u001b[0m: name 'model' is not defined"
     ]
    }
   ],
   "source": [
    "counter = 0\n",
    "counter_pack = 0\n",
    "pack = []\n",
    "position = []\n",
    "position_counter = 0\n",
    "matrix = []\n",
    "\n",
    "for var in model.variables():\n",
    "    if \"X\" in var.name:\n",
    "        if counter <= mcpp.n * mcpp.m * (mcpp.n + 1) - 1:\n",
    "            pack.append(var.varValue)\n",
    "            counter_pack += 1\n",
    "            if counter_pack == mcpp.n+1:\n",
    "                position.append(np.argmax(pack))\n",
    "                counter_pack = 0\n",
    "                pack = []\n",
    "                position_counter += 1 \n",
    "            if position_counter == (mcpp.n ):\n",
    "                matrix.append(position)\n",
    "                position = []\n",
    "                position_counter = 0\n",
    "            counter += 1\n",
    "        \n",
    "for row in matrix:\n",
    "    print(row)\n",
    "\n",
    "for var in model.variables():\n",
    "    if \"dist_cour\" in var.name: \n",
    "        print(var.name, var.varValue)\n"
   ]
  }
 ],
 "metadata": {
  "kernelspec": {
   "display_name": "Python 3",
   "language": "python",
   "name": "python3"
  },
  "language_info": {
   "codemirror_mode": {
    "name": "ipython",
    "version": 3
   },
   "file_extension": ".py",
   "mimetype": "text/x-python",
   "name": "python",
   "nbconvert_exporter": "python",
   "pygments_lexer": "ipython3",
   "version": "3.8.10"
  },
  "orig_nbformat": 4
 },
 "nbformat": 4,
 "nbformat_minor": 2
}
