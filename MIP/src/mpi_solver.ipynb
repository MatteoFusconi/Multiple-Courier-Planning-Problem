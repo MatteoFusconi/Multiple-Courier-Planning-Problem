{
 "cells": [
  {
   "cell_type": "code",
   "execution_count": 1,
   "metadata": {},
   "outputs": [],
   "source": [
    "from pulp import *\n",
    "import numpy as np\n",
    "from mpi_utils import *"
   ]
  },
  {
   "cell_type": "markdown",
   "metadata": {},
   "source": [
    "### to add CLI "
   ]
  },
  {
   "cell_type": "code",
   "execution_count": 153,
   "metadata": {},
   "outputs": [],
   "source": [
    "mcpp = load_instances(1)\n"
   ]
  },
  {
   "cell_type": "code",
   "execution_count": 154,
   "metadata": {},
   "outputs": [],
   "source": [
    "def And(model, a, b, name):\n",
    "        \"\"\"\n",
    "        And(a,b)\n",
    "        :param a: first parameter of And condition\n",
    "        :param b: second parameter of And condition\n",
    "        :param name: name of the And\n",
    "        :return: 1 if a and b is true, false otherwise\n",
    "        \"\"\"\n",
    "        delta = LpVariable(cat=LpInteger, name=name)\n",
    "        model += delta <= a\n",
    "        model += delta >= a + b - 1\n",
    "        model += delta >= 0\n",
    "        model += delta <= b\n",
    "        return delta\n",
    "def linear_prod(model, binary_var, countinuos_var, ub, name):\n",
    "        \"\"\"\n",
    "        res = binary_var * countinuos_var\n",
    "        :param binary_var: binary variable\n",
    "        :param countinuos_var: countinuos variable\n",
    "        :param ub: upper bound of the countinuos variable\n",
    "        :param name: name of the product\n",
    "        :return: the result of the product\n",
    "        \"\"\"\n",
    "        res = LpVariable(cat=LpInteger, name=name)\n",
    "        model += ub * binary_var >= res\n",
    "        model += countinuos_var >= res\n",
    "        model += countinuos_var - (1 - binary_var) * ub <= res\n",
    "        model += res >= 0\n",
    "        return res"
   ]
  },
  {
   "cell_type": "code",
   "execution_count": 155,
   "metadata": {},
   "outputs": [],
   "source": [
    "# matrix k*m*l assigning the couriers with the packages, defining also their order\n",
    "X  = [[[LpVariable(name = f'X_{i}_{j}_{k}', lowBound = 0, upBound = 1, cat = LpBinary) for k in range(0,mcpp.n + 1)] for j in range(mcpp.n)] for i in range(mcpp.m)]\n",
    "\n",
    "#distance made by each courier\n",
    "dist_courier = [LpVariable(name = f'dist_cour{i}', cat = LpInteger) for i in range(mcpp.m)]\n",
    "\n",
    "\n",
    "\n",
    "\n",
    "# partial distance made by each courier\n",
    "dist_par  = [[LpVariable(name = f'dist{i}_{j}', cat = LpInteger) for j in range(mcpp.n + 2 )] for i in range(mcpp.m)] \n",
    "\n",
    "ordering = [[LpVariable(name = f'ord{i}_{j}', lowBound = 0, upBound = 1,cat = LpBinary) for j in range(mcpp.n + 1 )] for i in range(mcpp.m)] \n"
   ]
  },
  {
   "cell_type": "code",
   "execution_count": 156,
   "metadata": {},
   "outputs": [],
   "source": [
    "maximum = LpVariable(name=f'maximum', lowBound = 0, upBound = 10000, cat = LpInteger)\n",
    "model = LpProblem(name=f'mcpp1', sense=LpMinimize)"
   ]
  },
  {
   "cell_type": "code",
   "execution_count": 162,
   "metadata": {},
   "outputs": [],
   "source": [
    "#constraints \n",
    "#1. each element of X can assume just one value \n",
    "for i in range(mcpp.m):\n",
    "    for j in range(mcpp.n):\n",
    "        model += lpSum(X[i][j]) == 1 \n",
    "    \n",
    "#2. no repetions in the ordering sequences are allowed \n",
    "for k in range(1, mcpp.n + 1):\n",
    "    # for each row\n",
    "    for i in range(mcpp.m):\n",
    "        model += lpSum([X[i][j][k] for j in range(mcpp.n)]) <= 1\n",
    "\n",
    "#3. each package has to be shipped\n",
    "for j in range(mcpp.n):\n",
    "    model += lpSum([X[i][j][k]  for k in range(1, mcpp.n + 1) for i in range(mcpp.m)]) == 1\n",
    "\n",
    "#4. load size has to be respected \n",
    "for i in range(mcpp.m):\n",
    "    for j in range (mcpp.n):\n",
    "        model += lpSum(lpSum([X[i][j][k] for k in range(1,mcpp.n + 1)]))* mcpp.s[j] <= mcpp.l[i]\n",
    "\n",
    "\n",
    "#5. need to set an ordering  constraints\n",
    "for i in range(mcpp.m):\n",
    "    prec = 0\n",
    "    for j in range(mcpp.n):\n",
    "        \n",
    "            model+= ordering[i][prec] == lpSum(X[i][j][k] for k in range(1,mcpp.n + 1))\n",
    "            prec = prec + 1\n",
    "\n",
    "for i in range(mcpp.m):\n",
    "    for j in range(2,mcpp.n + 1):\n",
    "        model += ordering[i][j] >= ordering[i][j - 1]\n"
   ]
  },
  {
   "cell_type": "code",
   "execution_count": 148,
   "metadata": {},
   "outputs": [],
   "source": [
    "for i in range(mcpp.m):\n",
    "    model += dist_par[i][0] == lpSum(X[i][j][1]*mcpp.D[mcpp.n][j] for j in range(mcpp.n))\n",
    "    model += dist_par[i][mcpp.n+1] == lpSum(X[i][j][mcpp.n]*mcpp.D[j][mcpp.n] for j in range(mcpp.n)) \n",
    " \n",
    "    for k in range(2,mcpp.n+1):\n",
    "         model += dist_par[i][k - 1] == lpSum(linear_prod(model,And(model,X[i][j2][k-1], X[i][j][k],f'dist{j}_{j2}'),mcpp.D[j2][j],mcpp.D[j2][j],f'prod{j2}{j}') for j2 in range(mcpp.n) for j in range(mcpp.n))\n",
    "    \n",
    "\n"
   ]
  },
  {
   "cell_type": "code",
   "execution_count": 149,
   "metadata": {},
   "outputs": [],
   "source": [
    "for i in range(mcpp.m):\n",
    "    model += dist_courier[i] == lpSum(dist_par[i])"
   ]
  },
  {
   "cell_type": "code",
   "execution_count": 150,
   "metadata": {},
   "outputs": [
    {
     "name": "stderr",
     "output_type": "stream",
     "text": [
      "c:\\Users\\shola\\AppData\\Local\\Programs\\Python\\Python39\\lib\\site-packages\\pulp\\pulp.py:1711: UserWarning: Overwriting previously set objective.\n",
      "  warnings.warn(\"Overwriting previously set objective.\")\n"
     ]
    }
   ],
   "source": [
    "\n",
    "#obj\n",
    "for i in range(mcpp.m):\n",
    "    model += maximum >= lpSum(dist_par[i]) \n",
    "model += maximum"
   ]
  },
  {
   "cell_type": "code",
   "execution_count": 151,
   "metadata": {},
   "outputs": [
    {
     "ename": "PulpSolverError",
     "evalue": "Pulp: Error while executing c:\\Users\\shola\\AppData\\Local\\Programs\\Python\\Python39\\lib\\site-packages\\pulp\\solverdir\\cbc\\win\\64\\cbc.exe",
     "output_type": "error",
     "traceback": [
      "\u001b[1;31m---------------------------------------------------------------------------\u001b[0m",
      "\u001b[1;31mPulpSolverError\u001b[0m                           Traceback (most recent call last)",
      "Cell \u001b[1;32mIn[151], line 1\u001b[0m\n\u001b[1;32m----> 1\u001b[0m status \u001b[39m=\u001b[39m model\u001b[39m.\u001b[39;49msolve()\n",
      "File \u001b[1;32mc:\\Users\\shola\\AppData\\Local\\Programs\\Python\\Python39\\lib\\site-packages\\pulp\\pulp.py:1913\u001b[0m, in \u001b[0;36mLpProblem.solve\u001b[1;34m(self, solver, **kwargs)\u001b[0m\n\u001b[0;32m   1911\u001b[0m \u001b[39m# time it\u001b[39;00m\n\u001b[0;32m   1912\u001b[0m \u001b[39mself\u001b[39m\u001b[39m.\u001b[39mstartClock()\n\u001b[1;32m-> 1913\u001b[0m status \u001b[39m=\u001b[39m solver\u001b[39m.\u001b[39mactualSolve(\u001b[39mself\u001b[39m, \u001b[39m*\u001b[39m\u001b[39m*\u001b[39mkwargs)\n\u001b[0;32m   1914\u001b[0m \u001b[39mself\u001b[39m\u001b[39m.\u001b[39mstopClock()\n\u001b[0;32m   1915\u001b[0m \u001b[39mself\u001b[39m\u001b[39m.\u001b[39mrestoreObjective(wasNone, dummyVar)\n",
      "File \u001b[1;32mc:\\Users\\shola\\AppData\\Local\\Programs\\Python\\Python39\\lib\\site-packages\\pulp\\apis\\coin_api.py:137\u001b[0m, in \u001b[0;36mCOIN_CMD.actualSolve\u001b[1;34m(self, lp, **kwargs)\u001b[0m\n\u001b[0;32m    135\u001b[0m \u001b[39mdef\u001b[39;00m \u001b[39mactualSolve\u001b[39m(\u001b[39mself\u001b[39m, lp, \u001b[39m*\u001b[39m\u001b[39m*\u001b[39mkwargs):\n\u001b[0;32m    136\u001b[0m \u001b[39m    \u001b[39m\u001b[39m\"\"\"Solve a well formulated lp problem\"\"\"\u001b[39;00m\n\u001b[1;32m--> 137\u001b[0m     \u001b[39mreturn\u001b[39;00m \u001b[39mself\u001b[39m\u001b[39m.\u001b[39msolve_CBC(lp, \u001b[39m*\u001b[39m\u001b[39m*\u001b[39mkwargs)\n",
      "File \u001b[1;32mc:\\Users\\shola\\AppData\\Local\\Programs\\Python\\Python39\\lib\\site-packages\\pulp\\apis\\coin_api.py:213\u001b[0m, in \u001b[0;36mCOIN_CMD.solve_CBC\u001b[1;34m(self, lp, use_mps)\u001b[0m\n\u001b[0;32m    211\u001b[0m     pipe\u001b[39m.\u001b[39mclose()\n\u001b[0;32m    212\u001b[0m \u001b[39mif\u001b[39;00m \u001b[39mnot\u001b[39;00m os\u001b[39m.\u001b[39mpath\u001b[39m.\u001b[39mexists(tmpSol):\n\u001b[1;32m--> 213\u001b[0m     \u001b[39mraise\u001b[39;00m PulpSolverError(\u001b[39m\"\u001b[39m\u001b[39mPulp: Error while executing \u001b[39m\u001b[39m\"\u001b[39m \u001b[39m+\u001b[39m \u001b[39mself\u001b[39m\u001b[39m.\u001b[39mpath)\n\u001b[0;32m    214\u001b[0m (\n\u001b[0;32m    215\u001b[0m     status,\n\u001b[0;32m    216\u001b[0m     values,\n\u001b[1;32m   (...)\u001b[0m\n\u001b[0;32m    220\u001b[0m     sol_status,\n\u001b[0;32m    221\u001b[0m ) \u001b[39m=\u001b[39m \u001b[39mself\u001b[39m\u001b[39m.\u001b[39mreadsol_MPS(tmpSol, lp, vs, variablesNames, constraintsNames)\n\u001b[0;32m    222\u001b[0m lp\u001b[39m.\u001b[39massignVarsVals(values)\n",
      "\u001b[1;31mPulpSolverError\u001b[0m: Pulp: Error while executing c:\\Users\\shola\\AppData\\Local\\Programs\\Python\\Python39\\lib\\site-packages\\pulp\\solverdir\\cbc\\win\\64\\cbc.exe"
     ]
    }
   ],
   "source": [
    "status = model.solve()\n"
   ]
  },
  {
   "cell_type": "code",
   "execution_count": null,
   "metadata": {},
   "outputs": [
    {
     "name": "stdout",
     "output_type": "stream",
     "text": [
      "X_0_0_0: Value = 0.0\n",
      "X_0_0_1: Value = 0.0\n",
      "X_0_0_2: Value = 0.0\n",
      "X_0_0_3: Value = 0.0\n",
      "X_0_0_4: Value = 0.0\n",
      "X_0_0_5: Value = 1.0\n",
      "X_0_0_6: Value = 0.0\n",
      "X_0_1_0: Value = 1.0\n",
      "X_0_1_1: Value = 0.0\n",
      "X_0_1_2: Value = 0.0\n",
      "X_0_1_3: Value = 0.0\n",
      "X_0_1_4: Value = 0.0\n",
      "X_0_1_5: Value = 0.0\n",
      "X_0_1_6: Value = 0.0\n",
      "X_0_2_0: Value = 1.0\n",
      "X_0_2_1: Value = 0.0\n",
      "X_0_2_2: Value = 0.0\n",
      "X_0_2_3: Value = 0.0\n",
      "X_0_2_4: Value = 0.0\n",
      "X_0_2_5: Value = 0.0\n",
      "X_0_2_6: Value = 0.0\n",
      "X_0_3_0: Value = 1.0\n",
      "X_0_3_1: Value = 0.0\n",
      "X_0_3_2: Value = 0.0\n",
      "X_0_3_3: Value = 0.0\n",
      "X_0_3_4: Value = 0.0\n",
      "X_0_3_5: Value = 0.0\n",
      "X_0_3_6: Value = 0.0\n",
      "X_0_4_0: Value = 1.0\n",
      "X_0_4_1: Value = 0.0\n",
      "X_0_4_2: Value = 0.0\n",
      "X_0_4_3: Value = 0.0\n",
      "X_0_4_4: Value = 0.0\n",
      "X_0_4_5: Value = 0.0\n",
      "X_0_4_6: Value = 0.0\n",
      "X_0_5_0: Value = 1.0\n",
      "X_0_5_1: Value = 0.0\n",
      "X_0_5_2: Value = 0.0\n",
      "X_0_5_3: Value = 0.0\n",
      "X_0_5_4: Value = 0.0\n",
      "X_0_5_5: Value = 0.0\n",
      "X_0_5_6: Value = 0.0\n",
      "X_1_0_0: Value = 1.0\n",
      "X_1_0_1: Value = 0.0\n",
      "X_1_0_2: Value = 0.0\n",
      "X_1_0_3: Value = 0.0\n",
      "X_1_0_4: Value = 0.0\n",
      "X_1_0_5: Value = 0.0\n",
      "X_1_0_6: Value = 0.0\n",
      "X_1_1_0: Value = 0.0\n",
      "X_1_1_1: Value = 0.0\n",
      "X_1_1_2: Value = 0.0\n",
      "X_1_1_3: Value = 0.0\n",
      "X_1_1_4: Value = 0.0\n",
      "X_1_1_5: Value = 0.0\n",
      "X_1_1_6: Value = 1.0\n",
      "X_1_2_0: Value = 0.0\n",
      "X_1_2_1: Value = 0.0\n",
      "X_1_2_2: Value = 0.0\n",
      "X_1_2_3: Value = 1.0\n",
      "X_1_2_4: Value = 0.0\n",
      "X_1_2_5: Value = 0.0\n",
      "X_1_2_6: Value = 0.0\n",
      "X_1_3_0: Value = 0.0\n",
      "X_1_3_1: Value = 0.0\n",
      "X_1_3_2: Value = 1.0\n",
      "X_1_3_3: Value = 0.0\n",
      "X_1_3_4: Value = 0.0\n",
      "X_1_3_5: Value = 0.0\n",
      "X_1_3_6: Value = 0.0\n",
      "X_1_4_0: Value = 0.0\n",
      "X_1_4_1: Value = 0.0\n",
      "X_1_4_2: Value = 0.0\n",
      "X_1_4_3: Value = 0.0\n",
      "X_1_4_4: Value = 1.0\n",
      "X_1_4_5: Value = 0.0\n",
      "X_1_4_6: Value = 0.0\n",
      "X_1_5_0: Value = 0.0\n",
      "X_1_5_1: Value = 1.0\n",
      "X_1_5_2: Value = 0.0\n",
      "X_1_5_3: Value = 0.0\n",
      "X_1_5_4: Value = 0.0\n",
      "X_1_5_5: Value = 0.0\n",
      "X_1_5_6: Value = 0.0\n",
      "dist0_0: Value = 0.0\n",
      "dist0_1: Value = 0.0\n",
      "dist0_2: Value = 0.0\n",
      "dist0_3: Value = 0.0\n",
      "dist0_4: Value = 0.0\n",
      "dist0_5: Value = 0.0\n",
      "dist0_6: Value = 0.0\n",
      "dist0_7: Value = 0.0\n",
      "dist1_0: Value = 0.0\n",
      "dist1_1: Value = 0.0\n",
      "dist1_2: Value = 0.0\n",
      "dist1_3: Value = 0.0\n",
      "dist1_4: Value = 0.0\n",
      "dist1_5: Value = 0.0\n",
      "dist1_6: Value = 0.0\n",
      "dist1_7: Value = 0.0\n",
      "dist_cour0: Value = 0.0\n",
      "dist_cour1: Value = 0.0\n",
      "maximum: Value = 0.0\n",
      "ord0_0: Value = 1.0\n",
      "ord0_1: Value = 0.0\n",
      "ord0_2: Value = 0.0\n",
      "ord0_3: Value = 0.0\n",
      "ord0_4: Value = 0.0\n",
      "ord0_5: Value = 0.0\n",
      "ord0_6: Value = 1.0\n",
      "ord1_0: Value = 0.0\n",
      "ord1_1: Value = 1.0\n",
      "ord1_2: Value = 1.0\n",
      "ord1_3: Value = 1.0\n",
      "ord1_4: Value = 1.0\n",
      "ord1_5: Value = 1.0\n",
      "ord1_6: Value = 1.0\n"
     ]
    }
   ],
   "source": [
    "for var in model.variables():\n",
    "    print(f\"{var.name}: Value = {var.varValue}\")\n"
   ]
  }
 ],
 "metadata": {
  "kernelspec": {
   "display_name": "Python 3",
   "language": "python",
   "name": "python3"
  },
  "language_info": {
   "codemirror_mode": {
    "name": "ipython",
    "version": 3
   },
   "file_extension": ".py",
   "mimetype": "text/x-python",
   "name": "python",
   "nbconvert_exporter": "python",
   "pygments_lexer": "ipython3",
   "version": "3.8.10"
  },
  "orig_nbformat": 4
 },
 "nbformat": 4,
 "nbformat_minor": 2
}
