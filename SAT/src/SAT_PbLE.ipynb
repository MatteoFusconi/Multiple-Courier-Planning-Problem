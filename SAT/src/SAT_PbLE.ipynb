{
  "cells": [
    {
      "cell_type": "markdown",
      "metadata": {
        "colab_type": "text",
        "id": "view-in-github"
      },
      "source": [
        "<a href=\"https://colab.research.google.com/github/francesco-source/CDMO/blob/SAT/SAT.ipynb\" target=\"_parent\"><img src=\"https://colab.research.google.com/assets/colab-badge.svg\" alt=\"Open In Colab\"/></a>"
      ]
    },
    {
      "cell_type": "code",
      "execution_count": 36,
      "metadata": {
        "id": "sXbHxG_QywZz"
      },
      "outputs": [],
      "source": [
        "from itertools import combinations\n",
        "from z3 import *\n",
        "import math\n",
        "import numpy as np"
      ]
    },
    {
      "cell_type": "code",
      "execution_count": 37,
      "metadata": {
        "id": "71J2D7DUyyg7"
      },
      "outputs": [],
      "source": [
        "def at_least_one(bool_vars):\n",
        "    return Or(bool_vars)\n",
        "\n",
        "def at_most_one(bool_vars, name):\n",
        "    constraints = []\n",
        "    n = len(bool_vars)\n",
        "    s = [Bool(f\"s_{name}_{i}\") for i in range(n - 1)]\n",
        "    constraints.append(Or(Not(bool_vars[0]), s[0]))\n",
        "    constraints.append(Or(Not(bool_vars[n-1]), Not(s[n-2])))\n",
        "    for i in range(1, n - 1):\n",
        "        constraints.append(Or(Not(bool_vars[i]), s[i]))\n",
        "        constraints.append(Or(Not(bool_vars[i]), Not(s[i-1])))\n",
        "        constraints.append(Or(Not(s[i-1]), s[i]))\n",
        "    return And(constraints)\n",
        "\n",
        "def exactly_one(bool_vars, name):\n",
        "    return And(at_least_one(bool_vars), at_most_one(bool_vars, name))\n",
        "\n"
      ]
    },
    {
      "cell_type": "code",
      "execution_count": 38,
      "metadata": {
        "id": "eU4UCAvY4JV6"
      },
      "outputs": [],
      "source": [
        "m = 3\n",
        "n = 7\n",
        "l = [15, 10, 20]\n",
        "s = [3, 2, 6, 8, 5, 4, 4]\n",
        "D = [[0, 3, 3, 6, 5, 6, 6, 2],\n",
        "     [3, 0, 4, 3, 4, 7, 7, 3],\n",
        "     [3, 4, 0, 7, 6, 3, 5, 3],\n",
        "     [6, 3, 7, 0, 3, 6, 6, 4],\n",
        "     [5, 4, 6, 3, 0, 3, 3, 3],\n",
        "     [6, 7, 3, 6, 3, 0, 2, 4],\n",
        "     [6, 7, 5, 6, 3, 2, 0, 4],\n",
        "     [2, 3, 3, 4, 3, 4, 4, 0]]\n",
        "\n"
      ]
    },
    {
      "cell_type": "code",
      "execution_count": 39,
      "metadata": {
        "id": "iiBZ9Hhq3m2o"
      },
      "outputs": [],
      "source": [
        "class Postmans:\n",
        "    def __init__(self, m, n, l, s, D):\n",
        "        self.m = m\n",
        "        self.n = n\n",
        "        self.l = l\n",
        "        self.s = s\n",
        "        self.D = D\n",
        "\n",
        "        \n",
        "instance = Postmans(m,n,l,s,D)"
      ]
    },
    {
      "cell_type": "code",
      "execution_count": 40,
      "metadata": {},
      "outputs": [],
      "source": [
        "#print function\n",
        "def print_function(x,c,last,D):\n",
        "    travel = {}\n",
        "    for i in range(m):\n",
        "        t = []\n",
        "        for j in range(n):\n",
        "            for k in range(0,n+1):\n",
        "                if x[i][j][k] == True:\n",
        "                    t.append(k)\n",
        "        travel[i] = t                 \n",
        "    print(travel)\n",
        "            \n",
        "    distance = {}\n",
        "    total_distance = 0\n",
        "    for i in range(m):\n",
        "        d = 0\n",
        "        for j in range(n):\n",
        "            if j == 0:\n",
        "                for k in range(1,n+1):\n",
        "                    if x[i][j][k] == True:\n",
        "                        d += D[n][k-1]\n",
        "                        total_distance += D[n][k-1]\n",
        "            for k in range(n):\n",
        "                if c[i][j][k] == True:\n",
        "                    d += D[j][k]\n",
        "                    total_distance += D[j][k]\n",
        "        for k in range(n):\n",
        "            if last[i][k] == True:\n",
        "                d += D[k][n]\n",
        "                total_distance += D[k][n]\n",
        "                \n",
        "        distance[i] = d\n",
        "    print(distance)\n",
        "    print(f\"total distance = {total_distance}\\n\")\n",
        "    print(\"-------------------------------------\")\n",
        "    return total_distance\n",
        "    "
      ]
    },
    {
      "cell_type": "code",
      "execution_count": 41,
      "metadata": {
        "colab": {
          "base_uri": "https://localhost:8080/"
        },
        "id": "6hADaacp7aJy",
        "outputId": "def3888d-b50d-4101-c3c8-38dfb0d55b52"
      },
      "outputs": [
        {
          "name": "stdout",
          "output_type": "stream",
          "text": [
            "{0: [1, 7, 5, 0, 0, 0, 0], 1: [4, 2, 0, 0, 0, 0, 0], 2: [3, 6, 0, 0, 0, 0, 0]}\n",
            "{0: 14, 1: 10, 2: 10}\n",
            "total distance = 34\n",
            "\n",
            "-------------------------------------\n",
            "{0: [3, 6, 0, 0, 0, 0, 0], 1: [5, 7, 0, 0, 0, 0, 0], 2: [1, 2, 4, 0, 0, 0, 0]}\n",
            "{0: 10, 1: 10, 2: 12}\n",
            "total distance = 32\n",
            "\n",
            "-------------------------------------\n",
            "{0: [4, 2, 0, 0, 0, 0, 0], 1: [1, 3, 0, 0, 0, 0, 0], 2: [6, 7, 5, 0, 0, 0, 0]}\n",
            "{0: 10, 1: 8, 2: 12}\n",
            "total distance = 30\n",
            "\n",
            "-------------------------------------\n",
            "{0: [4, 2, 0, 0, 0, 0, 0], 1: [1, 0, 0, 0, 0, 0, 0], 2: [5, 7, 6, 3, 0, 0, 0]}\n",
            "{0: 10, 1: 4, 2: 14}\n",
            "total distance = 28\n",
            "\n",
            "-------------------------------------\n",
            "{0: [1, 2, 4, 0, 0, 0, 0], 1: [0, 0, 0, 0, 0, 0, 0], 2: [5, 7, 6, 3, 0, 0, 0]}\n",
            "{0: 12, 1: 0, 2: 14}\n",
            "total distance = 26\n",
            "\n",
            "-------------------------------------\n"
          ]
        }
      ],
      "source": [
        "def mtps(instance):\n",
        "      m = instance.m\n",
        "      n = instance.n\n",
        "      l = instance.l\n",
        "      s = instance.s\n",
        "      D = instance.D\n",
        "\n",
        "      solver = Solver()\n",
        "\n",
        "      constraints = []\n",
        "\n",
        "      X = [[[Bool(f\"x_{i}_{j}_{k}\") for k in range(0,n+1)] for j in range(n)] for i in range(m)]\n",
        "      C = [[[Bool(f\"c_{i}_{j}_{k}\") for k in range(n)] for j in range(n)] for i in range(m)]\n",
        "      last = [[Bool(f\"l_{i}_{j}\") for j in range(n)] for i in range(m)]\n",
        "      \n",
        "      for i in range(m):\n",
        "            solver.add(at_most_one(last[i], f\"l_{i}\"))\n",
        "            \n",
        "\n",
        "      upper_distance = int(np.sum(D)/n)\n",
        "\n",
        "      #each cell has only one value.\n",
        "      for i in range(m):\n",
        "            for j in range(n):\n",
        "                  solver.add(exactly_one(X[i][j],f\"valid_cell_{i}_{j}\"))\n",
        "\n",
        "      #each element except zero should be seen only once inside the matrix\n",
        "      for k in range(1,n+1):\n",
        "            solver.add(exactly_one([X[i][j][k] for i in range(m) for j in range(n)],f\"valid_k{k}\"))\n",
        "\n",
        "      #each courier can only deliver items whose total size doesn't exceed limit\n",
        "      for i in range(m):\n",
        "            solver.add(PbLe([(X[i][j][k],s[k-1]) for j in range(n) for k in range(1,n+1)], l[i]))\n",
        "      \n",
        "      #metti gli zero in fondo\n",
        "      for i in range(m):\n",
        "            for j in range(n-1):\n",
        "                  solver.add(Implies(X[i][j][0],X[i][j+1][0]))\n",
        "\n",
        "      #C serve per dire se il corriere va da un posto a un altro\n",
        "      for i in range(m):\n",
        "            for j in range(n-1):\n",
        "                  for k in range(1,n+1):\n",
        "                        for kk in range(1,n+1):\n",
        "                              solver.add(Implies(X[i][j][k], Implies(X[i][j+1][kk], C[i][k-1][kk-1])))\n",
        "\n",
        "      #ultimo posto visitato\n",
        "      for i in range(m):\n",
        "            for j in range(n-1):\n",
        "                  for k in range(1,n+1):\n",
        "                        #solver.add(Xor(Implies(And(X[i][j][k], X[i][j+1][0]),last[i][k-1]),Implies(X[i][n-1][k],last[i][k-1])))\n",
        "                        solver.add(Implies(And(X[i][j][k], X[i][j+1][0]),last[i][k-1]))\n",
        "      \n",
        "      #distance\n",
        "      solver.add(PbLe([(C[i][j][k], D[j][k]) for j in range(n) for k in range(n) for i in range(m)]\n",
        "                 +[(X[i][0][k],D[n][k-1]) for k in range(1,n+1) for i in range(m)]\n",
        "                 +[(last[i][j],D[j][n]) for j in range(n) for i in range(m)], upper_distance)) \n",
        "      \n",
        "      \n",
        "      total_distance = upper_distance\n",
        "\n",
        "      while solver.check() == sat:\n",
        "            model = solver.model()\n",
        "            \n",
        "            \n",
        "            x = [[[ model.evaluate(X[i][j][k]) for k in range(0,n+1) ] for j in range(n) ] for i in range(m)]\n",
        "            c = [[[ model.evaluate(C[i][j][k]) for k in range(n) ] for j in range(n) ] for i in range(m) ]\n",
        "            la = [[ model.evaluate(last[i][j]) for j in range(n) ] for i in range(m) ]\n",
        "            total_distance = print_function(x,c,la,D)\n",
        "            \n",
        "            \n",
        "            solver.push()\n",
        "            solver.add(PbLe([(C[i][j][k], D[j][k]) for j in range(n) for k in range(n) for i in range(m)]\n",
        "                            +[(X[i][0][k],D[n][k-1]) for k in range(1,n+1) for i in range(m)]\n",
        "                            +[(last[i][j],D[j][n]) for j in range(n) for i in range(m)], total_distance-1)) \n",
        "            \n",
        "      '''      \n",
        "      solver.pop()\n",
        "      solver.check() == sat\n",
        "      model = solver.model()\n",
        "      x = [[[ model.evaluate(X[i][j][k]) for k in range(0,n+1) ] for j in range(n) ] for i in range(m)]\n",
        "      c = [[[ model.evaluate(C[i][j][k]) for k in range(n) ] for j in range(n) ] for i in range(m) ]\n",
        "      la = [[model.evaluate(last[i][j]) for j in range(n)] for i in range(m)]\n",
        "      print_function(x,c,la,D)'''\n",
        "      \n",
        "      \n",
        "mtps(instance)\n"
      ]
    }
  ],
  "metadata": {
    "colab": {
      "authorship_tag": "ABX9TyPf2FG9/osKBJa9vwSJr2NW",
      "include_colab_link": true,
      "provenance": []
    },
    "kernelspec": {
      "display_name": "Python 3.9.12 ('base')",
      "language": "python",
      "name": "python3"
    },
    "language_info": {
      "codemirror_mode": {
        "name": "ipython",
        "version": 3
      },
      "file_extension": ".py",
      "mimetype": "text/x-python",
      "name": "python",
      "nbconvert_exporter": "python",
      "pygments_lexer": "ipython3",
      "version": "3.9.12"
    },
    "vscode": {
      "interpreter": {
        "hash": "ce158c20a386f43d731e866e8a1fa3566d5d0ad2ff4eb3078e47cb804f3c9d9b"
      }
    }
  },
  "nbformat": 4,
  "nbformat_minor": 0
}
